{
 "cells": [
  {
   "cell_type": "markdown",
   "metadata": {},
   "source": [
    "# TTC Delay Analysis"
   ]
  },
  {
   "cell_type": "markdown",
   "metadata": {},
   "source": [
    "I've personally experienced many painful delays while traveling to work on the TTC and finally motivated myself to understand the how and why they happen. The data was surprisingly easy to obtain as the Ontario government is pretty transparent on public transportation information. The data is available in the TTC Project folder and can also be found with the following link (https://www.toronto.ca/city-government/data-research-maps/open-data/open-data-catalogue/). Keep in mind that I've renamed the files as they were named inconsistently and it would make it easier to combine.\n"
   ]
  },
  {
   "cell_type": "code",
   "execution_count": 1,
   "metadata": {},
   "outputs": [
    {
     "name": "stderr",
     "output_type": "stream",
     "text": [
      "Z:\\Users\\Don\\Anaconda3\\lib\\site-packages\\sklearn\\ensemble\\weight_boosting.py:29: DeprecationWarning: numpy.core.umath_tests is an internal NumPy module and should not be imported. It will be removed in a future NumPy release.\n",
      "  from numpy.core.umath_tests import inner1d\n"
     ]
    }
   ],
   "source": [
    "# Essential libraries for math operations and visualizations\n",
    "import numpy as np\n",
    "import pandas as pd\n",
    "import matplotlib.pyplot as plt\n",
    "import seaborn as sns\n",
    "import os\n",
    "import re\n",
    "\n",
    "# Machine learning libraries\n",
    "\n",
    "from sklearn.linear_model import LogisticRegression\n",
    "from sklearn.ensemble import RandomForestClassifier\n",
    "from sklearn.neighbors import KNeighborsClassifier\n",
    "\n",
    "# Utilities\n",
    "from sklearn.model_selection import train_test_split, cross_val_score, GridSearchCV, RandomizedSearchCV\n",
    "from sklearn.metrics import accuracy_score, classification_report, confusion_matrix\n",
    "from scipy.stats import randint\n",
    "from datetime import datetime, date, time "
   ]
  },
  {
   "cell_type": "markdown",
   "metadata": {},
   "source": [
    "Lets look at a small slice of our data to see what features and data types we have available to us"
   ]
  },
  {
   "cell_type": "code",
   "execution_count": 2,
   "metadata": {
    "scrolled": true
   },
   "outputs": [
    {
     "data": {
      "text/html": [
       "<div>\n",
       "<style scoped>\n",
       "    .dataframe tbody tr th:only-of-type {\n",
       "        vertical-align: middle;\n",
       "    }\n",
       "\n",
       "    .dataframe tbody tr th {\n",
       "        vertical-align: top;\n",
       "    }\n",
       "\n",
       "    .dataframe thead th {\n",
       "        text-align: right;\n",
       "    }\n",
       "</style>\n",
       "<table border=\"1\" class=\"dataframe\">\n",
       "  <thead>\n",
       "    <tr style=\"text-align: right;\">\n",
       "      <th></th>\n",
       "      <th>Date</th>\n",
       "      <th>Time</th>\n",
       "      <th>Day</th>\n",
       "      <th>Station</th>\n",
       "      <th>Code</th>\n",
       "      <th>Min Delay</th>\n",
       "      <th>Min Gap</th>\n",
       "      <th>Bound</th>\n",
       "      <th>Line</th>\n",
       "      <th>Vehicle</th>\n",
       "    </tr>\n",
       "  </thead>\n",
       "  <tbody>\n",
       "    <tr>\n",
       "      <th>0</th>\n",
       "      <td>2018-05-01</td>\n",
       "      <td>00:18</td>\n",
       "      <td>Tuesday</td>\n",
       "      <td>OLD MILL STATION</td>\n",
       "      <td>MUI</td>\n",
       "      <td>9</td>\n",
       "      <td>13</td>\n",
       "      <td>W</td>\n",
       "      <td>BD</td>\n",
       "      <td>5077</td>\n",
       "    </tr>\n",
       "    <tr>\n",
       "      <th>1</th>\n",
       "      <td>2018-05-01</td>\n",
       "      <td>00:29</td>\n",
       "      <td>Tuesday</td>\n",
       "      <td>YUS/BD/SHEPPARD SUBWAY</td>\n",
       "      <td>TUO</td>\n",
       "      <td>0</td>\n",
       "      <td>0</td>\n",
       "      <td>W</td>\n",
       "      <td>BD</td>\n",
       "      <td>5234</td>\n",
       "    </tr>\n",
       "    <tr>\n",
       "      <th>2</th>\n",
       "      <td>2018-05-01</td>\n",
       "      <td>02:01</td>\n",
       "      <td>Tuesday</td>\n",
       "      <td>MCCOWAN YARD</td>\n",
       "      <td>PRSP</td>\n",
       "      <td>0</td>\n",
       "      <td>0</td>\n",
       "      <td>N</td>\n",
       "      <td>SRT</td>\n",
       "      <td>3015</td>\n",
       "    </tr>\n",
       "    <tr>\n",
       "      <th>3</th>\n",
       "      <td>2018-05-01</td>\n",
       "      <td>02:41</td>\n",
       "      <td>Tuesday</td>\n",
       "      <td>VAUGHAN MC STATION</td>\n",
       "      <td>SUO</td>\n",
       "      <td>0</td>\n",
       "      <td>0</td>\n",
       "      <td>NaN</td>\n",
       "      <td>YU</td>\n",
       "      <td>0</td>\n",
       "    </tr>\n",
       "    <tr>\n",
       "      <th>4</th>\n",
       "      <td>2018-05-01</td>\n",
       "      <td>05:47</td>\n",
       "      <td>Tuesday</td>\n",
       "      <td>KIPLING STATION</td>\n",
       "      <td>MUSC</td>\n",
       "      <td>0</td>\n",
       "      <td>0</td>\n",
       "      <td>E</td>\n",
       "      <td>BD</td>\n",
       "      <td>5120</td>\n",
       "    </tr>\n",
       "  </tbody>\n",
       "</table>\n",
       "</div>"
      ],
      "text/plain": [
       "        Date   Time      Day                 Station  Code  Min Delay  \\\n",
       "0 2018-05-01  00:18  Tuesday        OLD MILL STATION   MUI          9   \n",
       "1 2018-05-01  00:29  Tuesday  YUS/BD/SHEPPARD SUBWAY   TUO          0   \n",
       "2 2018-05-01  02:01  Tuesday            MCCOWAN YARD  PRSP          0   \n",
       "3 2018-05-01  02:41  Tuesday      VAUGHAN MC STATION   SUO          0   \n",
       "4 2018-05-01  05:47  Tuesday         KIPLING STATION  MUSC          0   \n",
       "\n",
       "   Min Gap Bound Line  Vehicle  \n",
       "0       13     W   BD     5077  \n",
       "1        0     W   BD     5234  \n",
       "2        0     N  SRT     3015  \n",
       "3        0   NaN   YU        0  \n",
       "4        0     E   BD     5120  "
      ]
     },
     "execution_count": 2,
     "metadata": {},
     "output_type": "execute_result"
    }
   ],
   "source": [
    "df = pd.read_excel('SubwaySRTLogs201805.xlsx')\n",
    "df.head()"
   ]
  },
  {
   "cell_type": "raw",
   "metadata": {},
   "source": [
    "Date - day of the year (YYYY/MM/DD)\n",
    "Time - Time of day in 24h format\n",
    "Day  - Name of the day of the week\n",
    "Station - TTC subway station name\n",
    "Code - TTC delay code\n",
    "Min Delay - Delay to subway service (in minutess)\n",
    "Min Gap - Time length between trains (in minutess)\n",
    "Bound - Direction of train dependant on the line\n",
    "Line - TTC subway line i.e. YU, BD, SHP, and SRT\n",
    "Vehicle - TTC train number"
   ]
  },
  {
   "cell_type": "markdown",
   "metadata": {},
   "source": [
    "Now that we get a picture of what our tables look like, we will now combine all the data using regular expression to select the appropriate files. Note that this was why we renamed the files earlier. The result will be a table with a shape of (99479, 10).\n",
    "\n"
   ]
  },
  {
   "cell_type": "code",
   "execution_count": 3,
   "metadata": {},
   "outputs": [
    {
     "data": {
      "text/plain": [
       "(99479, 10)"
      ]
     },
     "execution_count": 3,
     "metadata": {},
     "output_type": "execute_result"
    }
   ],
   "source": [
    "regex = re.compile(r'SubwaySRTLogs.*')\n",
    "files = os.listdir('.')\n",
    "file = filter(regex.search, files)\n",
    "\n",
    "all_data = pd.DataFrame()\n",
    "for datafile in file:\n",
    "    df = pd.read_excel(datafile)\n",
    "    all_data = all_data.append(df)\n",
    "    \n",
    "all_data.shape\n",
    "#stringColumns = ['Day', 'Station', 'Code', 'Bound', 'Line', 'Vehicle']\n",
    "#all_data[stringColumns] = all_data[stringColumns].astype(str) "
   ]
  },
  {
   "cell_type": "markdown",
   "metadata": {},
   "source": [
    "## Data Cleansing"
   ]
  },
  {
   "cell_type": "markdown",
   "metadata": {},
   "source": [
    "Now that the data has been combined we will clean as much of it as we can before we split it into training and testing sets. We first look at how much data is missing in the resulting table and will decide on whether or not we throw it out or impute it. "
   ]
  },
  {
   "cell_type": "code",
   "execution_count": 4,
   "metadata": {},
   "outputs": [
    {
     "data": {
      "text/plain": [
       "<matplotlib.axes._subplots.AxesSubplot at 0x28f04c7c048>"
      ]
     },
     "execution_count": 4,
     "metadata": {},
     "output_type": "execute_result"
    },
    {
     "data": {
      "image/png": "[encoded data removed]",
      "text/plain": [
       "<Figure size 864x576 with 2 Axes>"
      ]
     },
     "metadata": {
      "needs_background": "light"
     },
     "output_type": "display_data"
    }
   ],
   "source": [
    "plt.figure(figsize=(12,8))\n",
    "sns.heatmap(all_data.isnull())"
   ]
  },
  {
   "cell_type": "code",
   "execution_count": 5,
   "metadata": {},
   "outputs": [],
   "source": [
    "# Remove SRT data\n",
    "all_data = all_data[(all_data['Line'] != 'SRT') & \n",
    "        (all_data['Bound'].notnull()) & \n",
    "        (all_data['Line'].notnull())]\n",
    "\n",
    "# Remove inconsistent Station names\n",
    "bad_names = all_data['Station'].value_counts()[all_data['Station'].value_counts() <250].index\n",
    "all_data = all_data[~all_data['Station'].isin(bad_names)]\n",
    "\n",
    "# Remove inconsistent Line names\n",
    "good_names = all_data['Line'].value_counts().head(2).index\n",
    "all_data = all_data[all_data['Line'].isin(good_names)]\n",
    "\n",
    "# Remove non sensical Bound directions\n",
    "good_names2 = all_data.Bound.value_counts().head(4).index\n",
    "all_data = all_data[all_data['Bound'].isin(good_names2)]"
   ]
  },
  {
   "cell_type": "markdown",
   "metadata": {},
   "source": [
    "We end up seeing a lot of missing data for Bound and a few for Line so we will remove all of it and any data related to the SRT line. The reason being is because we want to focus on delays near the downtown core and the SRT data will only muddy our predictive model. There were also inconsistent naming conventions fouund in the Station, Line, and Bound columns so we will remove those as well."
   ]
  },
  {
   "cell_type": "markdown",
   "metadata": {},
   "source": [
    "# Feature Engineering"
   ]
  },
  {
   "cell_type": "markdown",
   "metadata": {},
   "source": [
    "Now we start creating some features based on our knowledge around how the subway operates"
   ]
  },
  {
   "cell_type": "code",
   "execution_count": 6,
   "metadata": {},
   "outputs": [],
   "source": [
    "# This column will be a boolean value representing whether there is a delay or not. It will also be our y-value \n",
    "all_data['Delay'] = all_data['Min Delay'].apply(lambda x: x>0) * 1"
   ]
  },
  {
   "cell_type": "code",
   "execution_count": 7,
   "metadata": {},
   "outputs": [],
   "source": [
    "# These columns will be boolean values representing whether or not its rush hour. Rush hour is assumed to \n",
    "# be between 6:30 - 10:00 and 15:30 - 19:00\n",
    "all_data['Time'] = all_data['Time'].apply(lambda x: int(x.replace(':', '')))\n",
    "all_data['MorningRush'] = all_data['Time'].apply(lambda x: 630 <= x <= 1000)*1\n",
    "all_data['AfternoonRush'] = all_data['Time'].apply(lambda x: 1530 <= x <= 1900)*1"
   ]
  },
  {
   "cell_type": "markdown",
   "metadata": {},
   "source": [
    "# Exploratory Data Analysis"
   ]
  },
  {
   "cell_type": "markdown",
   "metadata": {},
   "source": [
    "Now that our data can be considered clean, we will start plotting some of the data to see if we can find anything interesting"
   ]
  },
  {
   "cell_type": "code",
   "execution_count": 8,
   "metadata": {
    "scrolled": false
   },
   "outputs": [
    {
     "data": {
      "text/plain": [
       "<matplotlib.axes._subplots.AxesSubplot at 0x28f06750908>"
      ]
     },
     "execution_count": 8,
     "metadata": {},
     "output_type": "execute_result"
    },
    {
     "data": {
      "image/png": "[encoded data removed]",
      "text/plain": [
       "<Figure size 864x576 with 1 Axes>"
      ]
     },
     "metadata": {
      "needs_background": "light"
     },
     "output_type": "display_data"
    }
   ],
   "source": [
    "delayCodes = all_data['Code'].value_counts().head(10)\n",
    "plt.figure(figsize=[12,8])\n",
    "\n",
    "plt.title('Top 10 Causes for Delay')\n",
    "plt.xlabel('Delay Codes')\n",
    "plt.ylabel('Number of Occurences')\n",
    "sns.barplot(x=delayCodes.index, y=delayCodes)\n"
   ]
  },
  {
   "cell_type": "markdown",
   "metadata": {},
   "source": [
    "Interestingly enough 46.6% of Delays are speed related. The rest of the codes can be seen below\n"
   ]
  },
  {
   "cell_type": "markdown",
   "metadata": {},
   "source": [
    "MUSC  -  Miscellaneous Speed Control \n",
    "TUSC  -  Operator Overspeeding    \n",
    "MUPAA  - Passenger Assistance Alarm Activated - No Trouble Found  \n",
    "MUIS  -  Injured or ill Customer (In Station) - Transported  \n",
    "MUGD  -  Miscellaneous General Delays      \n",
    "MUO  -   Miscellaneous Other       \n",
    "SUDP  -  Disorderly Patron      \n",
    "MUIR -   Injured or ill Customer (On Train) - Medical Aid Refused     \n",
    "MUI  -   Injured or ill Customer (On Train) - Transported     \n",
    "TUMVS  -  Operator Violated Signal\n",
    "\n"
   ]
  },
  {
   "cell_type": "code",
   "execution_count": 9,
   "metadata": {
    "scrolled": false
   },
   "outputs": [
    {
     "data": {
      "text/plain": [
       "Text(0,0.5,'Total Minutes')"
      ]
     },
     "execution_count": 9,
     "metadata": {},
     "output_type": "execute_result"
    },
    {
     "data": {
      "image/png": "[encoded data removed]",
      "text/plain": [
       "<Figure size 864x576 with 1 Axes>"
      ]
     },
     "metadata": {
      "needs_background": "light"
     },
     "output_type": "display_data"
    }
   ],
   "source": [
    "delayTimes = (all_data.groupby('Code')['Min Delay']\n",
    "                      .sum()\n",
    "                      .sort_values(ascending=False)\n",
    "                      .head(10))\n",
    "\n",
    "plt.figure(figsize=[12,8])\n",
    "\n",
    "\n",
    "sns.barplot(x=delayTimes.index, y=delayTimes)\n",
    "plt.title('Top 10 Delay Durations')\n",
    "plt.xlabel('Delay Codes')\n",
    "plt.ylabel('Total Minutes')"
   ]
  },
  {
   "cell_type": "markdown",
   "metadata": {},
   "source": [
    "Most time consuming delays are related to disorderly and injured passengers"
   ]
  },
  {
   "cell_type": "markdown",
   "metadata": {},
   "source": [
    "MUI - Injured or ill Customer (On Train) - Transported        \n",
    "SUDP - Disorderly Patron        \n",
    "MUPLB - Fire/Smoke Plan B - Source TTC        \n",
    "MUIR - Injured or ill Customer (On Train) - Medical Aid Refused        \n",
    "MUPR1 - Priority One - Train in Contact With Person        \n",
    "SUUT - Unauthorized at Track Level        \n",
    "EUDO - Door Problems - Faulty Equipment        \n",
    "SUO - Passenger Other        \n",
    "MUPAA - Passenger Assistance Alarm Activated - No Trouble Found        \n",
    "MUDD - Door Problems - Debris Related        \n"
   ]
  },
  {
   "cell_type": "code",
   "execution_count": 19,
   "metadata": {
    "scrolled": false
   },
   "outputs": [
    {
     "data": {
      "text/plain": [
       "Text(0,0.5,'Amount of Delays')"
      ]
     },
     "execution_count": 19,
     "metadata": {},
     "output_type": "execute_result"
    },
    {
     "data": {
      "image/png": "[encoded data removed]",
      "text/plain": [
       "<Figure size 1440x576 with 1 Axes>"
      ]
     },
     "metadata": {
      "needs_background": "light"
     },
     "output_type": "display_data"
    }
   ],
   "source": [
    "\n",
    "delayOccurences = (all_data[all_data['Min Delay']>0].groupby('Station')['Min Delay']\n",
    "                                                   .count()\n",
    "                                                   .sort_values(ascending=False)\n",
    "                                                   .head(10))\n",
    "plt.figure(figsize=[20,8])\n",
    "sns.barplot(x=delayOccurences.index, y=delayOccurences)\n",
    "plt.title('Top 10 Stations with Delay Occurences')\n",
    "plt.xlabel('Stations')\n",
    "plt.ylabel('Amount of Delays')"
   ]
  },
  {
   "cell_type": "markdown",
   "metadata": {},
   "source": [
    "Interestingly the three stations with the most amount of delay occurences are the ones farthest from the downtown core. Kennedy and Kipling being on line 2 and Sheppard West Station being on line 1"
   ]
  },
  {
   "cell_type": "markdown",
   "metadata": {},
   "source": [
    "# Preprocessing"
   ]
  },
  {
   "cell_type": "markdown",
   "metadata": {},
   "source": [
    "This step will involve converting columns with strings into a nuumerical representation and splitting the data into training and testing data"
   ]
  },
  {
   "cell_type": "code",
   "execution_count": 21,
   "metadata": {},
   "outputs": [],
   "source": [
    "stringColumns = ['Day', 'Station', 'Bound', 'Line']\n",
    "all_data = pd.get_dummies(all_data, columns=stringColumns)\n"
   ]
  },
  {
   "cell_type": "code",
   "execution_count": 22,
   "metadata": {},
   "outputs": [],
   "source": [
    "all_data = all_data.drop(['Date', 'Time', 'Code', 'Min Delay', 'Min Gap', 'Vehicle'], axis=1)\n",
    "X = all_data.drop('Delay', axis=1)\n",
    "y = all_data['Delay']\n",
    "\n",
    "X_train, X_test, y_train, y_test = train_test_split(X, y, test_size=0.33, random_state=42, stratify=y)"
   ]
  },
  {
   "cell_type": "markdown",
   "metadata": {},
   "source": [
    "# Modeling"
   ]
  },
  {
   "cell_type": "markdown",
   "metadata": {},
   "source": [
    "Now we will be experimenting to see which classifier model performs the best and use hyperparameter tuning to identify the best parameters for the model."
   ]
  },
  {
   "cell_type": "code",
   "execution_count": 27,
   "metadata": {},
   "outputs": [],
   "source": [
    "# Function for hyperparameter tuning\n",
    "\n",
    "def tuning(m):\n",
    "    if m=='knn':\n",
    "        model_cv = GridSearchCV(model, param_grid, cv=5)\n",
    "        model_cv.fit(X_train, y_train)\n",
    "    elif m=='logreg':\n",
    "        model_cv = GridSearchCV(model, param_grid, cv=5)\n",
    "        model_cv.fit(X_train, y_train) \n",
    "    elif m=='tree': \n",
    "        model_cv = RandomizedSearchCV(model, param_grid, cv=5)\n",
    "        model_cv.fit(X_train, y_train)\n",
    "    elif m=='svm':\n",
    "        model_cv = GridSearchCV(model, param_grid, cv=3)\n",
    "        model_cv.fit(X_train, y_train)\n",
    "        \n",
    "    else:\n",
    "        return print('ERROR: There was a problem with the parameter input')\n",
    "    print(\"Tuned Parameters: {}\".format(model_cv.best_params_)) \n",
    "    print(\"Best score is {}\".format(model_cv.best_score_))\n"
   ]
  },
  {
   "cell_type": "markdown",
   "metadata": {},
   "source": [
    "### Logisitic Regression"
   ]
  },
  {
   "cell_type": "code",
   "execution_count": 26,
   "metadata": {},
   "outputs": [
    {
     "name": "stdout",
     "output_type": "stream",
     "text": [
      "Tuned Logistic Regression Parameters: {'C': 0.26560877829466895, 'penalty': 'l1'}\n",
      "Best score is 0.6598894051849205\n"
     ]
    }
   ],
   "source": [
    "model = LogisticRegression(C=0.265, penalty='l1')\n",
    "model.fit(X_train, y_train)\n",
    "y_pred = pd.DataFrame(model.predict(X_test), index=y_test.index)\n",
    "\n",
    "param_grid = {'C': np.logspace(-5, 1, 100), 'penalty': ['l1', 'l2']}\n",
    "\n",
    "tuning('logreg')"
   ]
  },
  {
   "cell_type": "markdown",
   "metadata": {},
   "source": [
    "### Random Forest"
   ]
  },
  {
   "cell_type": "code",
   "execution_count": 31,
   "metadata": {},
   "outputs": [
    {
     "name": "stdout",
     "output_type": "stream",
     "text": [
      "Tuned Parameters: {'criterion': 'gini', 'max_depth': None, 'max_features': 6, 'min_samples_leaf': 6}\n",
      "Best score is 0.66001555896638\n"
     ]
    }
   ],
   "source": [
    "model_tree = RandomForestClassifier(criterion='gini', max_depth= None, max_features=7, min_samples_leaf=7)\n",
    "model_tree.fit(X_train, y_train)\n",
    "y_pred = pd.DataFrame(model.predict(X_test), index=y_test.index)\n",
    "\n",
    "param_grid = {\"max_depth\": [3, None],\n",
    "              \"max_features\": randint(1, 10),\n",
    "              \"min_samples_leaf\": randint(1, 9),\n",
    "              \"criterion\": [\"gini\", \"entropy\"]}\n",
    "\n",
    "tuning('tree')"
   ]
  },
  {
   "cell_type": "markdown",
   "metadata": {},
   "source": [
    "### KNearestNeighbor"
   ]
  },
  {
   "cell_type": "code",
   "execution_count": 29,
   "metadata": {},
   "outputs": [
    {
     "name": "stdout",
     "output_type": "stream",
     "text": [
      "Tuned Parameters: {'n_neighbors': 14}\n",
      "Best score is 0.6479888984672315\n"
     ]
    }
   ],
   "source": [
    "model = KNeighborsClassifier(n_neighbors=8)\n",
    "model.fit(X_train, y_train)\n",
    "y_pred = pd.DataFrame(model.predict(X_test), index=y_test.index)\n",
    "\n",
    "param_grid = {'n_neighbors': range(3,15)}\n",
    "\n",
    "tuning('knn')"
   ]
  },
  {
   "cell_type": "markdown",
   "metadata": {},
   "source": [
    "It looks like the Random Forest Classifier performed the best so we'll test it on the testing data"
   ]
  },
  {
   "cell_type": "markdown",
   "metadata": {},
   "source": [
    "# Result"
   ]
  },
  {
   "cell_type": "code",
   "execution_count": 32,
   "metadata": {},
   "outputs": [
    {
     "name": "stdout",
     "output_type": "stream",
     "text": [
      "0.6564074105694527\n",
      "\n",
      "\n",
      "             precision    recall  f1-score   support\n",
      "\n",
      "          0       0.67      0.92      0.78     15276\n",
      "          1       0.52      0.17      0.26      8150\n",
      "\n",
      "avg / total       0.62      0.66      0.60     23426\n",
      "\n",
      "\n",
      "\n",
      "[[13985  1291]\n",
      " [ 6758  1392]]\n"
     ]
    }
   ],
   "source": [
    "print(accuracy_score(y_test, y_pred))\n",
    "print('\\n')\n",
    "print(classification_report(y_test, y_pred))\n",
    "print('\\n')\n",
    "print(confusion_matrix(y_test, y_pred))"
   ]
  },
  {
   "cell_type": "markdown",
   "metadata": {},
   "source": [
    "In conclusion, we were created a model a that is able to predict TTC delays approximately 66% of the time correctly. The most interesting thing to me that the most common reason for a delay was speed related. A possible solution to this is to have the trains operated by AI with human supervision so that there is less human error involved.  "
   ]
  }
 ],
 "metadata": {
  "kernelspec": {
   "display_name": "Python 3",
   "language": "python",
   "name": "python3"
  },
  "language_info": {
   "codemirror_mode": {
    "name": "ipython",
    "version": 3
   },
   "file_extension": ".py",
   "mimetype": "text/x-python",
   "name": "python",
   "nbconvert_exporter": "python",
   "pygments_lexer": "ipython3",
   "version": "3.7.0"
  }
 },
 "nbformat": 4,
 "nbformat_minor": 2
}
