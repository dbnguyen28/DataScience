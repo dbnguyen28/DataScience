{
 "cells": [
  {
   "cell_type": "code",
   "execution_count": 1,
   "metadata": {},
   "outputs": [],
   "source": [
    "import re\n",
    "import csv\n",
    "import codecs\n",
    "import numpy as np\n",
    "import pandas as pd\n",
    "import seaborn as sns\n",
    "import matplotlib.pyplot as plt\n",
    "\n",
    "#from keras.preprocessing.text import Tokenizer\n",
    "#from keras.preprocessing.sequence import pad_sequences\n",
    "\n",
    "from torch.utils.data import DataLoader, TensorDataset\n",
    "import torch\n",
    "import torchtext\n",
    "import torch.nn as nn\n",
    "import torch.nn.functional as F\n",
    "from torchtext.data import Field, BucketIterator, TabularDataset\n",
    "from torchtext.data.utils import get_tokenizer\n",
    "from torch.autograd import Variable\n",
    "\n",
    "from gensim.models import KeyedVectors"
   ]
  },
  {
   "cell_type": "code",
   "execution_count": 2,
   "metadata": {},
   "outputs": [],
   "source": [
    "USE_CUDA = torch.cuda.is_available()\n",
    "gpus = [0]\n",
    "torch.cuda.set_device(gpus[0])\n",
    "\n",
    "FloatTensor = torch.cuda.FloatTensor if USE_CUDA else torch.FloatTensor\n",
    "LongTensor = torch.cuda.LongTensor if USE_CUDA else torch.LongTensor\n",
    "ByteTensor = torch.cuda.ByteTensor if USE_CUDA else torch.ByteTensor"
   ]
  },
  {
   "cell_type": "code",
   "execution_count": 3,
   "metadata": {},
   "outputs": [
    {
     "data": {
      "text/plain": [
       "0    14293\n",
       "1      279\n",
       "Name: fraudulent, dtype: int64"
      ]
     },
     "execution_count": 3,
     "metadata": {},
     "output_type": "execute_result"
    }
   ],
   "source": [
    "df = pd.read_csv('fake_job_postings.csv', encoding='UTF-8')\n",
    "\n",
    "df = df[(~df['company_profile'].isnull()) & (~df['description'].isnull())]\n",
    "df['fraudulent'].value_counts()"
   ]
  },
  {
   "cell_type": "code",
   "execution_count": 4,
   "metadata": {},
   "outputs": [
    {
     "data": {
      "text/plain": [
       "job_id                     0\n",
       "title                      0\n",
       "location                 284\n",
       "department              9194\n",
       "salary_range           12454\n",
       "company_profile            0\n",
       "description                0\n",
       "requirements            1941\n",
       "benefits                5537\n",
       "telecommuting              0\n",
       "has_company_logo           0\n",
       "has_questions              0\n",
       "employment_type         2521\n",
       "required_experience     5524\n",
       "required_education      6290\n",
       "industry                3714\n",
       "function                4990\n",
       "fraudulent                 0\n",
       "dtype: int64"
      ]
     },
     "execution_count": 4,
     "metadata": {},
     "output_type": "execute_result"
    }
   ],
   "source": [
    "df.isnull().sum()"
   ]
  },
  {
   "cell_type": "code",
   "execution_count": 5,
   "metadata": {},
   "outputs": [
    {
     "data": {
      "image/png": "[encoded data removed]",
      "text/plain": [
       "<Figure size 432x288 with 2 Axes>"
      ]
     },
     "metadata": {
      "needs_background": "light"
     },
     "output_type": "display_data"
    },
    {
     "data": {
      "text/plain": [
       "<Figure size 864x720 with 0 Axes>"
      ]
     },
     "metadata": {},
     "output_type": "display_data"
    }
   ],
   "source": [
    "sns.heatmap(df.isnull())\n",
    "plt.figure(figsize=(12,10))\n",
    "plt.show()"
   ]
  },
  {
   "cell_type": "markdown",
   "metadata": {},
   "source": [
    "# Preprocessing"
   ]
  },
  {
   "cell_type": "code",
   "execution_count": 6,
   "metadata": {},
   "outputs": [],
   "source": [
    "def text_to_wordlist(text):    \n",
    "    \"\"\"Convert words to lower case, split them, and clean punctuated words using a hard coded dictionary.\"\"\"\n",
    "\n",
    "\n",
    "    text = text.lower().split()\n",
    "    text = \" \".join(text)\n",
    "\n",
    "    # Clean the text\n",
    "    text = re.sub(r\"[^A-Za-z0-9^,!.\\/'+-=]\", \" \", text)\n",
    "    text = re.sub(r\"what's\", \"what is \", text)\n",
    "    text = re.sub(r\"\\'s\", \" \", text)\n",
    "    text = re.sub(r\"\\'ve\", \" have \", text)\n",
    "    text = re.sub(r\"can't\", \"cannot \", text)\n",
    "    text = re.sub(r\"n't\", \" not \", text)\n",
    "    text = re.sub(r\"i'm\", \"i am \", text)\n",
    "    text = re.sub(r\"\\'re\", \" are \", text)\n",
    "    text = re.sub(r\"\\'d\", \" would \", text)\n",
    "    text = re.sub(r\"\\'ll\", \" will \", text)\n",
    "    text = re.sub(r\",\", \" \", text)\n",
    "    text = re.sub(r\"\\.\", \" \", text)\n",
    "    text = re.sub(r\"!\", \" ! \", text)\n",
    "    text = re.sub(r\"\\/\", \" \", text)\n",
    "    text = re.sub(r\"\\^\", \" ^ \", text)\n",
    "    text = re.sub(r\"\\+\", \" + \", text)\n",
    "    text = re.sub(r\"\\-\", \" - \", text)\n",
    "    text = re.sub(r\"\\=\", \" = \", text)\n",
    "    text = re.sub(r\"'\", \" \", text)\n",
    "    text = re.sub(r\"(\\d+)(k)\", r\"\\g<1>000\", text)\n",
    "    text = re.sub(r\":\", \" : \", text)\n",
    "    text = re.sub(r\" e g \", \" eg \", text)\n",
    "    text = re.sub(r\" b g \", \" bg \", text)\n",
    "    text = re.sub(r\" u s \", \" american \", text)\n",
    "    text = re.sub(r\"\\0s\", \"0\", text)\n",
    "    text = re.sub(r\" 9 11 \", \"911\", text)\n",
    "    text = re.sub(r\"e - mail\", \"email\", text)\n",
    "    text = re.sub(r\"j k\", \"jk\", text)\n",
    "    text = re.sub(r\"\\s{2,}\", \" \", text)\n",
    "    \n",
    "    return(text)"
   ]
  },
  {
   "cell_type": "code",
   "execution_count": 7,
   "metadata": {},
   "outputs": [],
   "source": [
    "def prepare_sequence(seq, word2index):\n",
    "    idxs = list(map(lambda w: word2index[w] if word2index.get(w) is not None else word2index[\"<UNK>\"], seq))\n",
    "    return Variable(LongTensor(idxs))\n",
    "\n",
    "def prepare_word(word, word2index):\n",
    "    return Variable(LongTensor([word2index[word]]) if word2index.get(word) is not None else LongTensor([word2index[\"<UNK>\"]]))\n"
   ]
  },
  {
   "cell_type": "code",
   "execution_count": 18,
   "metadata": {},
   "outputs": [
    {
     "data": {
      "text/plain": [
       "[1219]"
      ]
     },
     "execution_count": 18,
     "metadata": {},
     "output_type": "execute_result"
    }
   ],
   "source": [
    "import subprocess as sp\n",
    "import os\n",
    "\n",
    "def get_gpu_memory():\n",
    "    _output_to_list = lambda x: x.decode('ascii').split('\\n')[:-1]\n",
    "\n",
    "    ACCEPTABLE_AVAILABLE_MEMORY = 1024\n",
    "    COMMAND = \"nvidia-smi --query-gpu=memory.free --format=csv\"\n",
    "    memory_free_info = _output_to_list(sp.check_output(COMMAND.split()))[1:]\n",
    "    memory_free_values = [int(x.split()[0]) for i, x in enumerate(memory_free_info)]\n",
    "    \n",
    "    return memory_free_values\n",
    "\n",
    "get_gpu_memory()"
   ]
  },
  {
   "cell_type": "code",
   "execution_count": 13,
   "metadata": {
    "tags": []
   },
   "outputs": [
    {
     "name": "stdout",
     "output_type": "stream",
     "text": [
      "Found 2000 texts in fake_job_postings.csv\n",
      "We visualize the actual data: \n",
      " \n",
      "\n",
      " we are food52 and we have created a groundbreaking and award - winning cooking site we support connect and celebrate home cooks and give them everything they need in one place we have a top editorial business and engineering team we are focused on using technology to find new and better ways to connect people around their specific food interests and to offer them superb highly curated information about food and cooking we attract the most talented home cooks and contributors in the country; we also publish well - known professionals like mario batali gwyneth paltrow and danny meyer and we have partnerships with whole foods market and random house food52 has been named the best food website by the james beard foundation and iacp and has been featured in the new york times npr pando daily techcrunch and on the today show we are located in chelsea in new york city \n",
      "\n",
      " food52 a fast - growing james beard award - winning online food community and crowd - sourced and curated recipe hub is currently interviewing full - and part - time unpaid interns to work in a small team of editors executives and developers in its new york city headquarters reproducing and or repackaging existing food52 content for a number of partner sites such as huffington post yahoo buzzfeed and more in their various content management systemsresearching blogs and websites for the provisions by food52 affiliate programassisting in day - to - day affiliate program support such as screening affiliates and assisting in any affiliate inquiriessupporting with pr amp; events when neededhelping with office administrative work such as filing mailing and preparing for meetingsworking with developers to document bugs and suggest improvements to the sitesupporting the marketing and executive staff\n",
      "\n",
      " 0\n"
     ]
    }
   ],
   "source": [
    "comp_prof = []\n",
    "job_desc = []\n",
    "labels = []\n",
    "test_df = df[:2000]\n",
    "for row in test_df.values:\n",
    "    comp_prof.append(text_to_wordlist(row[5]))\n",
    "    job_desc.append(text_to_wordlist(row[6]))\n",
    "    labels.append(row[-1])\n",
    "\n",
    "print(f'Found {len(labels)} texts in fake_job_postings.csv')\n",
    "print('We visualize the actual data: \\n ')\n",
    "print('\\n', comp_prof[0])\n",
    "print('\\n', job_desc[0])\n",
    "print('\\n', labels[0])"
   ]
  },
  {
   "cell_type": "code",
   "execution_count": 15,
   "metadata": {},
   "outputs": [],
   "source": [
    "# Creating the vocabulary\n",
    "vocab = [entry.split() for entry in comp_prof] + [entry.split() for entry in job_desc]\n",
    "flatten = lambda l: [item for sublist in l for item in sublist]\n",
    "vocab.append('<UNK>')\n",
    "vocab = set(flatten(vocab))\n",
    "\n",
    "# Creating the dictionary of tokens\n",
    "word2index = {'<UNK>' : 0} \n",
    "\n",
    "for vo in vocab:\n",
    "    if word2index.get(vo) is None:\n",
    "        word2index[vo] = len(word2index)\n",
    "\n",
    "index2word = {v:k for k, v in word2index.items()} "
   ]
  },
  {
   "cell_type": "code",
   "execution_count": 16,
   "metadata": {},
   "outputs": [],
   "source": [
    "def sequencer(text, indexer):\n",
    "    '''\n",
    "    A function that converts text in the data to their corresponding index values in the vocabulary \n",
    "        text    - the corpus in list form\n",
    "        indexer - A dictionary of tokens as keys and their index as the value.\n",
    "    '''\n",
    "    new_sequence = []\n",
    "    for sentence in text:\n",
    "        new_sequence.append(list(map(lambda word: indexer[word] if indexer.get(word) is not None else indexer[\"<UNK>\"], sentence)))\n",
    "    return new_sequence\n",
    "\n",
    "def padding_tensor(sequences):\n",
    "    \"\"\"\n",
    "    :param sequences: list of tensors\n",
    "    :return:\n",
    "    \"\"\"\n",
    "    num = len(sequences)\n",
    "    max_len = max([s.size(0) for s in sequences])\n",
    "    out_dims = (num, max_len)\n",
    "    out_tensor = sequences[0].data.new(*out_dims).fill_(0)\n",
    "    mask = sequences[0].data.new(*out_dims).fill_(0)\n",
    "    for i, tensor in enumerate(sequences):\n",
    "        length = tensor.size(0)\n",
    "        out_tensor[i, :length] = tensor\n",
    "        mask[i, :length] = 1\n",
    "    return torch.Tensor(out_tensor), mask"
   ]
  },
  {
   "cell_type": "code",
   "execution_count": 19,
   "metadata": {},
   "outputs": [],
   "source": [
    "# indexing text\n",
    "seq_comp_prof = sequencer(comp_prof, word2index)\n",
    "seq_job_desc = sequencer(job_desc, word2index)\n",
    "\n",
    "# Converting list of lists into list of tensors\n",
    "for i, sent in enumerate(seq_comp_prof):\n",
    "    seq_comp_prof[i] = torch.Tensor(seq_comp_prof[i])  \n",
    "for i, sent in enumerate(seq_job_desc):\n",
    "    seq_job_desc[i] = torch.Tensor(seq_job_desc[i])\n",
    "    \n",
    "# Padding sequences\n",
    "data, _ = padding_tensor(seq_job_desc)"
   ]
  },
  {
   "cell_type": "code",
   "execution_count": 24,
   "metadata": {},
   "outputs": [
    {
     "data": {
      "text/plain": [
       "[1219]"
      ]
     },
     "execution_count": 24,
     "metadata": {},
     "output_type": "execute_result"
    }
   ],
   "source": []
  },
  {
   "cell_type": "code",
   "execution_count": 21,
   "metadata": {},
   "outputs": [],
   "source": [
    "# Padding sequences\n",
    "data, _ = padding_tensor(seq_job_desc)"
   ]
  },
  {
   "cell_type": "code",
   "execution_count": 23,
   "metadata": {},
   "outputs": [
    {
     "name": "stdout",
     "output_type": "stream",
     "text": [
      "1600 200 200 2000\n",
      "<torch.utils.data.dataset.TensorDataset object at 0x000001E8BAEC3EF0> <torch.utils.data.dataset.TensorDataset object at 0x000001E8BAEC30F0> <torch.utils.data.dataset.TensorDataset object at 0x000001E8BAEC3668>\n"
     ]
    }
   ],
   "source": [
    "# split data into training, validation, testing set\n",
    "split_frac = 0.8\n",
    "len_feat = len(data)\n",
    "train_x = data[0:int(split_frac*len_feat)]\n",
    "train_y = torch.Tensor(labels[0:int(split_frac*len_feat)])\n",
    "temp_remain_x = data[int(split_frac*len_feat):]\n",
    "temp_remain_y = labels[int(split_frac*len_feat):]\n",
    "valid_x = temp_remain_x[0:int(len(temp_remain_x)*0.5)]\n",
    "valid_y = torch.Tensor(temp_remain_y[0:int(len(temp_remain_y)*0.5)])\n",
    "test_x = temp_remain_x[int(len(temp_remain_x)*0.5):]\n",
    "test_y = torch.Tensor(temp_remain_y[int(len(temp_remain_y)*0.5):])\n",
    "print(len(train_x), len(valid_x) , len(test_x) , len(data))\n",
    "assert len(train_x) + len(valid_x) + len(test_x) == len(data), 'Two lengths not equal'\n",
    "\n",
    "# set up torch dataset\n",
    "train_data = TensorDataset(train_x, train_y)\n",
    "valid_data =  TensorDataset(valid_x, valid_y)  \n",
    "test_data = TensorDataset(test_x, test_y)\n",
    "print(train_data, valid_data, test_data)\n",
    "\n",
    "# batching\n",
    "batch_size = 10\n",
    "train_loader = DataLoader(train_data, shuffle=True, batch_size=batch_size)\n",
    "valid_loader =  DataLoader(valid_data, shuffle=True, batch_size=batch_size)\n",
    "test_loader = DataLoader(test_data, shuffle=True, batch_size=batch_size)"
   ]
  },
  {
   "cell_type": "markdown",
   "metadata": {},
   "source": [
    "# Model"
   ]
  },
  {
   "cell_type": "code",
   "execution_count": 25,
   "metadata": {},
   "outputs": [],
   "source": [
    "class LSTM(nn.Module):\n",
    "    \"\"\"\n",
    "    The RNN model that will be used to perform Sentiment analysis.\n",
    "    \"\"\"\n",
    "\n",
    "    def __init__(self, vocab_size, output_size, embedding_dim, hidden_dim, n_layers, drop_prob=0.5):\n",
    "        \"\"\"\n",
    "        Initialize the model by setting up the layers.\n",
    "        \"\"\"\n",
    "        super().__init__()\n",
    "\n",
    "        self.output_size = output_size\n",
    "        self.n_layers = n_layers\n",
    "        self.hidden_dim = hidden_dim\n",
    "        \n",
    "        # embedding and LSTM layers\n",
    "        self.embedding = nn.Embedding(vocab_size, embedding_dim) # option (1): trained together with LSTM\n",
    "        # self.embedding = embedding # option (2): pre-trained\n",
    "        self.lstm = nn.LSTM(embedding_dim, hidden_dim, n_layers, \n",
    "                            dropout=drop_prob, batch_first=True)\n",
    "        \n",
    "        # dropout layer\n",
    "        self.dropout = nn.Dropout(0.3)\n",
    "        \n",
    "        # linear and sigmoid layers\n",
    "        self.fc = nn.Linear(hidden_dim, output_size)\n",
    "        self.sig = nn.Sigmoid()\n",
    "        \n",
    "\n",
    "    def forward(self, x, hidden):\n",
    "        \"\"\"\n",
    "        Perform a forward pass of our model on some input and hidden state.\n",
    "        \"\"\"\n",
    "        batch_size = x.size(0)\n",
    "\n",
    "        # embeddings and lstm_out\n",
    "        embeds = self.embedding(x)\n",
    "        \n",
    "        # TODO: complete the forward propagation for LSTM\n",
    "        lstm_out, hidden =  self.lstm(embeds) # NOTE: assignment section (4)\n",
    "    \n",
    "        # stack up lstm outputs\n",
    "        # creating new variables for the hidden state, otherwise\n",
    "        # we'd backprop through the entire training history\n",
    "        lstm_out = lstm_out.contiguous().view(-1, self.hidden_dim)\n",
    "        \n",
    "        # dropout and fully-connected layer\n",
    "        # TODO: complete the drop out layer\n",
    "        out = self.dropout(lstm_out) # NOTE: assignment section (5)\n",
    "        out = self.fc(out)\n",
    "        \n",
    "        # sigmoid function\n",
    "        sig_out = self.sig(out)\n",
    "        \n",
    "        # reshape to be batch_size first\n",
    "        sig_out = sig_out.view(batch_size, -1)\n",
    "        # convert 2D to 1D\n",
    "        sig_out = sig_out[:, -1]\n",
    "        \n",
    "        # return last sigmoid output and hidden state\n",
    "        return sig_out, hidden\n",
    "    \n",
    "    \n",
    "    def init_hidden(self, batch_size):\n",
    "        ''' Initializes hidden state '''\n",
    "        # Create two new tensors with sizes n_layers x batch_size x hidden_dim,\n",
    "        # initialized to zero, for hidden state and cell state of LSTM\n",
    "        weight = next(self.parameters()).data\n",
    "        hidden = (weight.new(self.n_layers, batch_size, self.hidden_dim).zero_().cuda(),\n",
    "              weight.new(self.n_layers, batch_size, self.hidden_dim).zero_().cuda())\n",
    "        \n",
    "        return hidden\n",
    "\n"
   ]
  },
  {
   "cell_type": "code",
   "execution_count": 26,
   "metadata": {},
   "outputs": [
    {
     "name": "stdout",
     "output_type": "stream",
     "text": [
      "LSTM(\n",
      "  (embedding): Embedding(21834, 50)\n",
      "  (lstm): LSTM(50, 256, num_layers=2, batch_first=True, dropout=0.5)\n",
      "  (dropout): Dropout(p=0.3, inplace=False)\n",
      "  (fc): Linear(in_features=256, out_features=1, bias=True)\n",
      "  (sig): Sigmoid()\n",
      ")\n"
     ]
    }
   ],
   "source": [
    "vocab_size = len(word2index)\n",
    "output_size = 1\n",
    "embedding_dim = 50\n",
    "hidden_dim = 256\n",
    "n_layers = 2\n",
    "net = LSTM(vocab_size, output_size, embedding_dim, hidden_dim, n_layers)\n",
    "print(net)"
   ]
  },
  {
   "cell_type": "code",
   "execution_count": 38,
   "metadata": {},
   "outputs": [
    {
     "name": "stdout",
     "output_type": "stream",
     "text": [
      "cuda:0\n",
      "gpu memory left [179]\n"
     ]
    },
    {
     "ename": "RuntimeError",
     "evalue": "CUDA out of memory. Tried to allocate 678.00 MiB (GPU 0; 2.00 GiB total capacity; 948.77 MiB already allocated; 148.87 MiB free; 986.00 MiB reserved in total by PyTorch)",
     "output_type": "error",
     "traceback": [
      "\u001b[1;31m---------------------------------------------------------------------------\u001b[0m",
      "\u001b[1;31mRuntimeError\u001b[0m                              Traceback (most recent call last)",
      "\u001b[1;32m<ipython-input-38-df76d27a9715>\u001b[0m in \u001b[0;36m<module>\u001b[1;34m\u001b[0m\n\u001b[0;32m     34\u001b[0m         \u001b[0minputs\u001b[0m \u001b[1;33m=\u001b[0m \u001b[0minputs\u001b[0m\u001b[1;33m.\u001b[0m\u001b[0mto\u001b[0m\u001b[1;33m(\u001b[0m\u001b[0mdevice\u001b[0m\u001b[1;33m)\u001b[0m\u001b[1;33m\u001b[0m\u001b[0m\n\u001b[0;32m     35\u001b[0m         \u001b[0mlabels\u001b[0m \u001b[1;33m=\u001b[0m \u001b[0mlabels\u001b[0m\u001b[1;33m.\u001b[0m\u001b[0mto\u001b[0m\u001b[1;33m(\u001b[0m\u001b[0mdevice\u001b[0m\u001b[1;33m)\u001b[0m\u001b[1;33m\u001b[0m\u001b[0m\n\u001b[1;32m---> 36\u001b[1;33m         \u001b[0moutput\u001b[0m\u001b[1;33m,\u001b[0m \u001b[0mh\u001b[0m \u001b[1;33m=\u001b[0m \u001b[0mnet\u001b[0m\u001b[1;33m(\u001b[0m\u001b[0minputs\u001b[0m\u001b[1;33m,\u001b[0m \u001b[0mh\u001b[0m\u001b[1;33m)\u001b[0m\u001b[1;33m\u001b[0m\u001b[0m\n\u001b[0m\u001b[0;32m     37\u001b[0m \u001b[1;33m\u001b[0m\u001b[0m\n\u001b[0;32m     38\u001b[0m         \u001b[1;31m# calculate the loss and perform backprop\u001b[0m\u001b[1;33m\u001b[0m\u001b[1;33m\u001b[0m\u001b[0m\n",
      "\u001b[1;32mZ:\\Users\\Don\\Anaconda3\\lib\\site-packages\\torch\\nn\\modules\\module.py\u001b[0m in \u001b[0;36m__call__\u001b[1;34m(self, *input, **kwargs)\u001b[0m\n\u001b[0;32m    530\u001b[0m             \u001b[0mresult\u001b[0m \u001b[1;33m=\u001b[0m \u001b[0mself\u001b[0m\u001b[1;33m.\u001b[0m\u001b[0m_slow_forward\u001b[0m\u001b[1;33m(\u001b[0m\u001b[1;33m*\u001b[0m\u001b[0minput\u001b[0m\u001b[1;33m,\u001b[0m \u001b[1;33m**\u001b[0m\u001b[0mkwargs\u001b[0m\u001b[1;33m)\u001b[0m\u001b[1;33m\u001b[0m\u001b[0m\n\u001b[0;32m    531\u001b[0m         \u001b[1;32melse\u001b[0m\u001b[1;33m:\u001b[0m\u001b[1;33m\u001b[0m\u001b[0m\n\u001b[1;32m--> 532\u001b[1;33m             \u001b[0mresult\u001b[0m \u001b[1;33m=\u001b[0m \u001b[0mself\u001b[0m\u001b[1;33m.\u001b[0m\u001b[0mforward\u001b[0m\u001b[1;33m(\u001b[0m\u001b[1;33m*\u001b[0m\u001b[0minput\u001b[0m\u001b[1;33m,\u001b[0m \u001b[1;33m**\u001b[0m\u001b[0mkwargs\u001b[0m\u001b[1;33m)\u001b[0m\u001b[1;33m\u001b[0m\u001b[0m\n\u001b[0m\u001b[0;32m    533\u001b[0m         \u001b[1;32mfor\u001b[0m \u001b[0mhook\u001b[0m \u001b[1;32min\u001b[0m \u001b[0mself\u001b[0m\u001b[1;33m.\u001b[0m\u001b[0m_forward_hooks\u001b[0m\u001b[1;33m.\u001b[0m\u001b[0mvalues\u001b[0m\u001b[1;33m(\u001b[0m\u001b[1;33m)\u001b[0m\u001b[1;33m:\u001b[0m\u001b[1;33m\u001b[0m\u001b[0m\n\u001b[0;32m    534\u001b[0m             \u001b[0mhook_result\u001b[0m \u001b[1;33m=\u001b[0m \u001b[0mhook\u001b[0m\u001b[1;33m(\u001b[0m\u001b[0mself\u001b[0m\u001b[1;33m,\u001b[0m \u001b[0minput\u001b[0m\u001b[1;33m,\u001b[0m \u001b[0mresult\u001b[0m\u001b[1;33m)\u001b[0m\u001b[1;33m\u001b[0m\u001b[0m\n",
      "\u001b[1;32m<ipython-input-25-8265eafb99ce>\u001b[0m in \u001b[0;36mforward\u001b[1;34m(self, x, hidden)\u001b[0m\n\u001b[0;32m     38\u001b[0m \u001b[1;33m\u001b[0m\u001b[0m\n\u001b[0;32m     39\u001b[0m         \u001b[1;31m# TODO: complete the forward propagation for LSTM\u001b[0m\u001b[1;33m\u001b[0m\u001b[1;33m\u001b[0m\u001b[0m\n\u001b[1;32m---> 40\u001b[1;33m         \u001b[0mlstm_out\u001b[0m\u001b[1;33m,\u001b[0m \u001b[0mhidden\u001b[0m \u001b[1;33m=\u001b[0m  \u001b[0mself\u001b[0m\u001b[1;33m.\u001b[0m\u001b[0mlstm\u001b[0m\u001b[1;33m(\u001b[0m\u001b[0membeds\u001b[0m\u001b[1;33m)\u001b[0m \u001b[1;31m# NOTE: assignment section (4)\u001b[0m\u001b[1;33m\u001b[0m\u001b[0m\n\u001b[0m\u001b[0;32m     41\u001b[0m \u001b[1;33m\u001b[0m\u001b[0m\n\u001b[0;32m     42\u001b[0m         \u001b[1;31m# stack up lstm outputs\u001b[0m\u001b[1;33m\u001b[0m\u001b[1;33m\u001b[0m\u001b[0m\n",
      "\u001b[1;32mZ:\\Users\\Don\\Anaconda3\\lib\\site-packages\\torch\\nn\\modules\\module.py\u001b[0m in \u001b[0;36m__call__\u001b[1;34m(self, *input, **kwargs)\u001b[0m\n\u001b[0;32m    530\u001b[0m             \u001b[0mresult\u001b[0m \u001b[1;33m=\u001b[0m \u001b[0mself\u001b[0m\u001b[1;33m.\u001b[0m\u001b[0m_slow_forward\u001b[0m\u001b[1;33m(\u001b[0m\u001b[1;33m*\u001b[0m\u001b[0minput\u001b[0m\u001b[1;33m,\u001b[0m \u001b[1;33m**\u001b[0m\u001b[0mkwargs\u001b[0m\u001b[1;33m)\u001b[0m\u001b[1;33m\u001b[0m\u001b[0m\n\u001b[0;32m    531\u001b[0m         \u001b[1;32melse\u001b[0m\u001b[1;33m:\u001b[0m\u001b[1;33m\u001b[0m\u001b[0m\n\u001b[1;32m--> 532\u001b[1;33m             \u001b[0mresult\u001b[0m \u001b[1;33m=\u001b[0m \u001b[0mself\u001b[0m\u001b[1;33m.\u001b[0m\u001b[0mforward\u001b[0m\u001b[1;33m(\u001b[0m\u001b[1;33m*\u001b[0m\u001b[0minput\u001b[0m\u001b[1;33m,\u001b[0m \u001b[1;33m**\u001b[0m\u001b[0mkwargs\u001b[0m\u001b[1;33m)\u001b[0m\u001b[1;33m\u001b[0m\u001b[0m\n\u001b[0m\u001b[0;32m    533\u001b[0m         \u001b[1;32mfor\u001b[0m \u001b[0mhook\u001b[0m \u001b[1;32min\u001b[0m \u001b[0mself\u001b[0m\u001b[1;33m.\u001b[0m\u001b[0m_forward_hooks\u001b[0m\u001b[1;33m.\u001b[0m\u001b[0mvalues\u001b[0m\u001b[1;33m(\u001b[0m\u001b[1;33m)\u001b[0m\u001b[1;33m:\u001b[0m\u001b[1;33m\u001b[0m\u001b[0m\n\u001b[0;32m    534\u001b[0m             \u001b[0mhook_result\u001b[0m \u001b[1;33m=\u001b[0m \u001b[0mhook\u001b[0m\u001b[1;33m(\u001b[0m\u001b[0mself\u001b[0m\u001b[1;33m,\u001b[0m \u001b[0minput\u001b[0m\u001b[1;33m,\u001b[0m \u001b[0mresult\u001b[0m\u001b[1;33m)\u001b[0m\u001b[1;33m\u001b[0m\u001b[0m\n",
      "\u001b[1;32mZ:\\Users\\Don\\Anaconda3\\lib\\site-packages\\torch\\nn\\modules\\rnn.py\u001b[0m in \u001b[0;36mforward\u001b[1;34m(self, input, hx)\u001b[0m\n\u001b[0;32m    557\u001b[0m         \u001b[1;32mif\u001b[0m \u001b[0mbatch_sizes\u001b[0m \u001b[1;32mis\u001b[0m \u001b[1;32mNone\u001b[0m\u001b[1;33m:\u001b[0m\u001b[1;33m\u001b[0m\u001b[0m\n\u001b[0;32m    558\u001b[0m             result = _VF.lstm(input, hx, self._flat_weights, self.bias, self.num_layers,\n\u001b[1;32m--> 559\u001b[1;33m                               self.dropout, self.training, self.bidirectional, self.batch_first)\n\u001b[0m\u001b[0;32m    560\u001b[0m         \u001b[1;32melse\u001b[0m\u001b[1;33m:\u001b[0m\u001b[1;33m\u001b[0m\u001b[0m\n\u001b[0;32m    561\u001b[0m             result = _VF.lstm(input, batch_sizes, hx, self._flat_weights, self.bias,\n",
      "\u001b[1;31mRuntimeError\u001b[0m: CUDA out of memory. Tried to allocate 678.00 MiB (GPU 0; 2.00 GiB total capacity; 948.77 MiB already allocated; 148.87 MiB free; 986.00 MiB reserved in total by PyTorch)"
     ]
    }
   ],
   "source": [
    "# training parameters\n",
    "lr = 0.001\n",
    "# TODO: specify binary cross entropy loss\n",
    "criterion =  torch.nn.BCELoss() # NOTE: assignment section (6)\n",
    "optimizer = torch.optim.Adam(net.parameters(), lr=lr)\n",
    "epochs = 1\n",
    "counter = 0\n",
    "clip = 5\n",
    "device =  torch.device(\"cuda:0\" if torch.cuda.is_available() else \"cpu\")\n",
    "print(device)\n",
    "net.to(device)\n",
    "\n",
    "# train for some number of epochs\n",
    "for e in range(epochs):\n",
    "    net.train()\n",
    "    # initialize hidden state\n",
    "    h = net.init_hidden(batch_size)\n",
    "\n",
    "    # batch loop\n",
    "    for inputs, labels in train_loader:\n",
    "        if len(inputs) != batch_size:\n",
    "            print(len(inputs) , batch_size)\n",
    "            continue\n",
    "        counter += 1\n",
    "        # Creating new variables for the hidden state, otherwise\n",
    "        # we'd backprop through the entire training history\n",
    "        h = tuple([each.data for each in h])\n",
    "\n",
    "        # zero accumulated gradients\n",
    "        net.zero_grad()\n",
    "        print('gpu memory left', get_gpu_memory())\n",
    "        # get the output from the model\n",
    "        inputs = inputs.type(torch.LongTensor)\n",
    "        inputs = inputs.to(device)\n",
    "        labels = labels.to(device)\n",
    "        output, h = net(inputs, h)\n",
    "\n",
    "        # calculate the loss and perform backprop\n",
    "        # TODO: calculate the loss between predicted and labels\n",
    "        \n",
    "        loss = criterion(output.float(), labels.float()) \n",
    "        loss.backward()\n",
    "        \n",
    "        nn.utils.clip_grad_norm_(net.parameters(), clip)\n",
    "        optimizer.step()\n",
    "        \n",
    "\n",
    "    # Get validation loss\n",
    "    val_h = net.init_hidden(batch_size)\n",
    "    val_losses = []\n",
    "    val_acc = []\n",
    "    net.eval()\n",
    "    for inputs, labels in valid_loader:\n",
    "        if len(inputs) != batch_size:\n",
    "                \n",
    "            continue\n",
    "\n",
    "        # Creating new variables for the hidden state, otherwise\n",
    "        # we'd backprop through the entire training history\n",
    "        val_h = tuple([each.data for each in val_h])\n",
    "\n",
    "        inputs = inputs.type(torch.LongTensor)\n",
    "        inputs, labels = inputs.cuda(), labels.cuda()\n",
    "        output, val_h = net(inputs, val_h)\n",
    "        val_loss = criterion(output.squeeze(), labels.float())\n",
    "        \n",
    "        # accuracy\n",
    "        output = (output > 0.5).float()\n",
    "        output = output.type(torch.LongTensor)\n",
    "        correct = (output.cpu() == labels.cpu()).float().sum()\n",
    "\n",
    "        val_losses.append(val_loss.item())\n",
    "        val_acc.append(correct / output.shape[0])\n",
    "\n",
    "    print(\"Epoch: {}/{}...\".format(e+1, epochs),\n",
    "          \"Step: {}...\".format(counter),\n",
    "          #\"Loss: {:.6f}...\".format(loss.item()),\n",
    "          \"Val Loss: {:.6f}\".format(np.mean(val_losses)),\n",
    "          \"Val Accuracy: {:.6f}\".format(np.mean(val_acc)))"
   ]
  },
  {
   "cell_type": "code",
   "execution_count": 35,
   "metadata": {},
   "outputs": [
    {
     "data": {
      "text/plain": [
       "[179]"
      ]
     },
     "execution_count": 35,
     "metadata": {},
     "output_type": "execute_result"
    }
   ],
   "source": [
    "get_gpu_memory()"
   ]
  },
  {
   "cell_type": "code",
   "execution_count": 36,
   "metadata": {},
   "outputs": [
    {
     "name": "stdout",
     "output_type": "stream",
     "text": [
      "Sun Jun 21 14:20:16 2020       \n",
      "+-----------------------------------------------------------------------------+\n",
      "| NVIDIA-SMI 442.59       Driver Version: 442.59       CUDA Version: 10.2     |\n",
      "|-------------------------------+----------------------+----------------------+\n",
      "| GPU  Name            TCC/WDDM | Bus-Id        Disp.A | Volatile Uncorr. ECC |\n",
      "| Fan  Temp  Perf  Pwr:Usage/Cap|         Memory-Usage | GPU-Util  Compute M. |\n",
      "|===============================+======================+======================|\n",
      "|   0  GeForce GTX 950    WDDM  | 00000000:01:00.0  On |                  N/A |\n",
      "|  0%   44C    P8    14W / 110W |   1869MiB /  2048MiB |      0%      Default |\n",
      "+-------------------------------+----------------------+----------------------+\n",
      "                                                                               \n",
      "+-----------------------------------------------------------------------------+\n",
      "| Processes:                                                       GPU Memory |\n",
      "|  GPU       PID   Type   Process name                             Usage      |\n",
      "|=============================================================================|\n",
      "|    0       788    C+G   ...ogram Files\\Mozilla Firefox\\firefox.exe N/A      |\n",
      "|    0      1244    C+G   ...t_cw5n1h2txyewy\\ShellExperienceHost.exe N/A      |\n",
      "|    0      2268    C+G   ...\\Binaries\\Win64\\UnrealCEFSubProcess.exe N/A      |\n",
      "|    0      3612    C+G   ...5n1h2txyewy\\StartMenuExperienceHost.exe N/A      |\n",
      "|    0      5692    C+G   ...1.0_x64__8wekyb3d8bbwe\\WinStore.App.exe N/A      |\n",
      "|    0      6776    C+G   ...x64__8wekyb3d8bbwe\\Microsoft.Photos.exe N/A      |\n",
      "|    0      7632    C+G   ...hell.Experiences.TextInput.InputApp.exe N/A      |\n",
      "|    0      8060    C+G   C:\\Windows\\explorer.exe                    N/A      |\n",
      "|    0      9192    C+G   ...a\\Local\\Discord\\app-0.0.306\\Discord.exe N/A      |\n",
      "|    0      9716    C+G   ...al\\Binaries\\Win64\\EpicGamesLauncher.exe N/A      |\n",
      "|    0     10196    C+G   ...ogram Files\\Mozilla Firefox\\firefox.exe N/A      |\n",
      "|    0     11008    C+G   Insufficient Permissions                   N/A      |\n",
      "|    0     12524    C+G   ...\\bin\\cef\\cef.win7x64\\steamwebhelper.exe N/A      |\n",
      "|    0     12548      C   Z:\\Users\\Don\\Anaconda3\\python.exe          N/A      |\n",
      "|    0     15084    C+G   ...dows.Cortana_cw5n1h2txyewy\\SearchUI.exe N/A      |\n",
      "|    0     15312    C+G   ...mmersiveControlPanel\\SystemSettings.exe N/A      |\n",
      "|    0     15368    C+G   ....148.0_x64__8wekyb3d8bbwe\\YourPhone.exe N/A      |\n",
      "|    0     16080    C+G   ..._x64__8wekyb3d8bbwe\\Microsoft.Notes.exe N/A      |\n",
      "+-----------------------------------------------------------------------------+\n"
     ]
    }
   ],
   "source": [
    "!nvidia-smi"
   ]
  },
  {
   "cell_type": "code",
   "execution_count": 32,
   "metadata": {},
   "outputs": [
    {
     "name": "stdout",
     "output_type": "stream",
     "text": [
      "\n",
      "\n",
      "Updated at Sun Jun 21 14:19:53 2020\n",
      "\n",
      "GPU utilization: 0 %\n",
      "VRAM used: 16.730820875481157 %\n",
      "\n",
      "GPU status: Idle \n",
      "\n",
      "\n",
      "\n"
     ]
    }
   ],
   "source": [
    "from collections import OrderedDict\n",
    "import json\n",
    "import subprocess\n",
    "import sys\n",
    "import time\n",
    "import xml.etree.ElementTree\n",
    "\n",
    "def extract(elem, tag, drop_s):\n",
    "  text = elem.find(tag).text\n",
    "  if drop_s not in text: raise Exception(text)\n",
    "  text = text.replace(drop_s, \"\")\n",
    "  try:\n",
    "    return int(text)\n",
    "  except ValueError:\n",
    "    return float(text)\n",
    "\n",
    "i = 0\n",
    "\n",
    "d = OrderedDict()\n",
    "d[\"time\"] = time.time()\n",
    "\n",
    "cmd = ['nvidia-smi', '-q', '-x']\n",
    "cmd_out = subprocess.check_output(cmd)\n",
    "gpu = xml.etree.ElementTree.fromstring(cmd_out).find(\"gpu\")\n",
    "\n",
    "util = gpu.find(\"utilization\")\n",
    "d[\"gpu_util\"] = extract(util, \"gpu_util\", \"%\")\n",
    "\n",
    "d[\"mem_used\"] = extract(gpu.find(\"fb_memory_usage\"), \"used\", \"MiB\")\n",
    "d[\"mem_used_per\"] = d[\"mem_used\"] * 100 / 11171\n",
    "\n",
    "if d[\"gpu_util\"] < 15 and d[\"mem_used\"] < 2816 :\n",
    "    msg = 'GPU status: Idle \\n'\n",
    "else:\n",
    "    msg = 'GPU status: Busy \\n'\n",
    "\n",
    "now = time.strftime(\"%c\")\n",
    "print('\\n\\nUpdated at %s\\n\\nGPU utilization: %s %%\\nVRAM used: %s %%\\n\\n%s\\n\\n' % (now, d[\"gpu_util\"],d[\"mem_used_per\"], msg))"
   ]
  },
  {
   "cell_type": "code",
   "execution_count": null,
   "metadata": {},
   "outputs": [],
   "source": []
  },
  {
   "cell_type": "code",
   "execution_count": null,
   "metadata": {},
   "outputs": [],
   "source": []
  },
  {
   "cell_type": "code",
   "execution_count": null,
   "metadata": {},
   "outputs": [],
   "source": []
  },
  {
   "cell_type": "code",
   "execution_count": null,
   "metadata": {},
   "outputs": [],
   "source": []
  },
  {
   "cell_type": "code",
   "execution_count": null,
   "metadata": {},
   "outputs": [],
   "source": []
  },
  {
   "cell_type": "code",
   "execution_count": null,
   "metadata": {},
   "outputs": [],
   "source": []
  },
  {
   "cell_type": "code",
   "execution_count": null,
   "metadata": {},
   "outputs": [],
   "source": []
  },
  {
   "cell_type": "code",
   "execution_count": null,
   "metadata": {},
   "outputs": [],
   "source": []
  }
 ],
 "metadata": {
  "kernelspec": {
   "display_name": "Python 3",
   "language": "python",
   "name": "python3"
  },
  "language_info": {
   "codemirror_mode": {
    "name": "ipython",
    "version": 3
   },
   "file_extension": ".py",
   "mimetype": "text/x-python",
   "name": "python",
   "nbconvert_exporter": "python",
   "pygments_lexer": "ipython3",
   "version": "3.7.0"
  }
 },
 "nbformat": 4,
 "nbformat_minor": 2
}
