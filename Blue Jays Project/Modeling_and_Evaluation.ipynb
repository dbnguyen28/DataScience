{
 "cells": [
  {
   "cell_type": "code",
   "execution_count": 30,
   "metadata": {},
   "outputs": [],
   "source": [
    "import numpy as np\n",
    "import pandas as pd\n",
    "import matplotlib.pyplot as plt\n",
    "plt.style.use('ggplot')\n",
    "import matplotlib.patches as patches\n",
    "import seaborn as sns\n",
    "from datetime import datetime\n",
    "pd.set_option('display.max_columns', 150)\n",
    "from IPython.display import Image\n",
    "\n",
    "# modeling libraries\n",
    "from sklearn.neighbors import KNeighborsClassifier\n",
    "from sklearn.linear_model import LogisticRegression\n",
    "from sklearn.naive_bayes import GaussianNB\n",
    "from sklearn.tree import DecisionTreeClassifier\n",
    "from sklearn.ensemble import RandomForestClassifier, BaggingClassifier\n",
    "from statsmodels.formula.api import logit\n",
    "\n",
    "# utilities\n",
    "from sklearn.model_selection import train_test_split, GridSearchCV, RandomizedSearchCV\n",
    "from sklearn.metrics import confusion_matrix, roc_auc_score, classification_report, auc\n",
    "from sklearn.preprocessing import StandardScaler\n",
    "from collections import OrderedDict\n",
    "\n",
    "\n",
    "import statsmodels.api as sm\n",
    "from statsmodels.stats.outliers_influence import variance_inflation_factor\n",
    "from scipy import stats\n",
    "from sklearn.pipeline import Pipeline\n",
    "import pandas.core.algorithms as algos\n",
    "from pandas import Series\n",
    "import scipy.stats.stats as stats\n",
    "import re\n",
    "import traceback\n",
    "import string"
   ]
  },
  {
   "cell_type": "code",
   "execution_count": 3,
   "metadata": {},
   "outputs": [],
   "source": [
    "df = pd.read_csv('Data/result1.csv').drop('Unnamed: 0', axis='columns')\n",
    "\n",
    "# Converting 'zone' column into a categorical column \n",
    "df['zone'] = pd.Categorical(df['zone'])"
   ]
  },
  {
   "cell_type": "code",
   "execution_count": 4,
   "metadata": {},
   "outputs": [],
   "source": [
    "str_cols = df.columns[(df.dtypes=='object') | (df.dtypes=='category')]\n",
    "df_num = df[df.columns[~df.columns.isin(list(str_cols))]]\n",
    "df_str = pd.get_dummies(df[str_cols].drop(['player_name', 'events', 'description'],axis='columns'))\n",
    "df_all = pd.concat([df_num, df_str], axis='columns')\n",
    "X = df_all.drop('strike_result', axis='columns')\n",
    "y = df_all['strike_result']\n"
   ]
  },
  {
   "cell_type": "markdown",
   "metadata": {},
   "source": [
    "# Feature Selection"
   ]
  },
  {
   "cell_type": "code",
   "execution_count": 5,
   "metadata": {},
   "outputs": [],
   "source": [
    "def calculate_vif_(X, thresh=5.0):\n",
    "    \"\"\"\n",
    "    Function to calculate and eliminates any independent features that are correlated with each other and\n",
    "    will print those features out. The function will return the remaining dataframe free of multicollinearity.\n",
    "    \n",
    "    X (dataframe): dataframe of independent variables\n",
    "    thresh (float): threshold value to determine how correlated features can be before removing them\n",
    "    \"\"\"\n",
    "    \n",
    "    variables = list(range(X.shape[1]))\n",
    "    dropped = True\n",
    "    while dropped:\n",
    "        dropped = False\n",
    "        vif = [variance_inflation_factor(X.iloc[:, variables].values, ix)\n",
    "               for ix in range(X.iloc[:, variables].shape[1])]\n",
    "\n",
    "        maxloc = vif.index(max(vif))\n",
    "        if max(vif) > thresh:\n",
    "            print('dropping \\'' + X.iloc[:, variables].columns[maxloc] +\n",
    "                  '\\' at index: ' + str(maxloc))\n",
    "            del variables[maxloc]\n",
    "            dropped = True\n",
    "\n",
    "    print('Remaining variables:')\n",
    "    print(X.columns[variables])\n",
    "    return X.iloc[:, variables]"
   ]
  },
  {
   "cell_type": "code",
   "execution_count": 6,
   "metadata": {},
   "outputs": [],
   "source": [
    "max_bin = 20\n",
    "force_bin = 3\n",
    "\n",
    "# define a binning function\n",
    "def mono_bin(Y, X, n = max_bin):\n",
    "    \n",
    "    df1 = pd.DataFrame({\"X\": X, \"Y\": Y})\n",
    "    justmiss = df1[['X','Y']][df1.X.isnull()]\n",
    "    notmiss = df1[['X','Y']][df1.X.notnull()]\n",
    "    r = 0\n",
    "    while np.abs(r) < 1:\n",
    "        try:\n",
    "            d1 = pd.DataFrame({\"X\": notmiss.X, \"Y\": notmiss.Y, \"Bucket\": pd.qcut(notmiss.X, n)})\n",
    "            d2 = d1.groupby('Bucket', as_index=True)\n",
    "            r, p = stats.spearmanr(d2.mean().X, d2.mean().Y)\n",
    "            n = n - 1 \n",
    "        except Exception as e:\n",
    "            n = n - 1\n",
    "\n",
    "    if len(d2) == 1:\n",
    "        n = force_bin         \n",
    "        bins = algos.quantile(notmiss.X, np.linspace(0, 1, n))\n",
    "        if len(np.unique(bins)) == 2:\n",
    "            bins = np.insert(bins, 0, 1)\n",
    "            bins[1] = bins[1]-(bins[1]/2)\n",
    "        d1 = pd.DataFrame({\"X\": notmiss.X, \"Y\": notmiss.Y, \"Bucket\": pd.cut(notmiss.X, np.unique(bins),include_lowest=True)}) \n",
    "        d2 = d1.groupby('Bucket', as_index=True)\n",
    "    \n",
    "    d3 = pd.DataFrame({},index=[])\n",
    "    d3[\"MIN_VALUE\"] = d2.min().X\n",
    "    d3[\"MAX_VALUE\"] = d2.max().X\n",
    "    d3[\"COUNT\"] = d2.count().Y\n",
    "    d3[\"EVENT\"] = d2.sum().Y\n",
    "    d3[\"NONEVENT\"] = d2.count().Y - d2.sum().Y\n",
    "    d3=d3.reset_index(drop=True)\n",
    "    \n",
    "    if len(justmiss.index) > 0:\n",
    "        d4 = pd.DataFrame({'MIN_VALUE':np.nan},index=[0])\n",
    "        d4[\"MAX_VALUE\"] = np.nan\n",
    "        d4[\"COUNT\"] = justmiss.count().Y\n",
    "        d4[\"EVENT\"] = justmiss.sum().Y\n",
    "        d4[\"NONEVENT\"] = justmiss.count().Y - justmiss.sum().Y\n",
    "        d3 = d3.append(d4,ignore_index=True)\n",
    "    \n",
    "    d3[\"EVENT_RATE\"] = d3.EVENT/d3.COUNT\n",
    "    d3[\"NON_EVENT_RATE\"] = d3.NONEVENT/d3.COUNT\n",
    "    d3[\"DIST_EVENT\"] = d3.EVENT/d3.sum().EVENT\n",
    "    d3[\"DIST_NON_EVENT\"] = d3.NONEVENT/d3.sum().NONEVENT\n",
    "    d3[\"WOE\"] = np.log(d3.DIST_EVENT/d3.DIST_NON_EVENT)\n",
    "    d3[\"IV\"] = (d3.DIST_EVENT-d3.DIST_NON_EVENT)*np.log(d3.DIST_EVENT/d3.DIST_NON_EVENT)\n",
    "    d3[\"VAR_NAME\"] = \"VAR\"\n",
    "    d3 = d3[['VAR_NAME','MIN_VALUE', 'MAX_VALUE', 'COUNT', 'EVENT', 'EVENT_RATE', 'NONEVENT', 'NON_EVENT_RATE', 'DIST_EVENT','DIST_NON_EVENT','WOE', 'IV']]       \n",
    "    d3 = d3.replace([np.inf, -np.inf], 0)\n",
    "    d3.IV = d3.IV.sum()\n",
    "    \n",
    "    return(d3)\n",
    "\n",
    "def char_bin(Y, X):\n",
    "        \n",
    "    df1 = pd.DataFrame({\"X\": X, \"Y\": Y})\n",
    "    justmiss = df1[['X','Y']][df1.X.isnull()]\n",
    "    notmiss = df1[['X','Y']][df1.X.notnull()]    \n",
    "    df2 = notmiss.groupby('X',as_index=True)\n",
    "    \n",
    "    d3 = pd.DataFrame({},index=[])\n",
    "    d3[\"COUNT\"] = df2.count().Y\n",
    "    d3[\"MIN_VALUE\"] = df2.sum().Y.index\n",
    "    d3[\"MAX_VALUE\"] = d3[\"MIN_VALUE\"]\n",
    "    d3[\"EVENT\"] = df2.sum().Y\n",
    "    d3[\"NONEVENT\"] = df2.count().Y - df2.sum().Y\n",
    "    \n",
    "    if len(justmiss.index) > 0:\n",
    "        d4 = pd.DataFrame({'MIN_VALUE':np.nan},index=[0])\n",
    "        d4[\"MAX_VALUE\"] = np.nan\n",
    "        d4[\"COUNT\"] = justmiss.count().Y\n",
    "        d4[\"EVENT\"] = justmiss.sum().Y\n",
    "        d4[\"NONEVENT\"] = justmiss.count().Y - justmiss.sum().Y\n",
    "        d3 = d3.append(d4,ignore_index=True)\n",
    "    \n",
    "    d3[\"EVENT_RATE\"] = d3.EVENT/d3.COUNT\n",
    "    d3[\"NON_EVENT_RATE\"] = d3.NONEVENT/d3.COUNT\n",
    "    d3[\"DIST_EVENT\"] = d3.EVENT/d3.sum().EVENT\n",
    "    d3[\"DIST_NON_EVENT\"] = d3.NONEVENT/d3.sum().NONEVENT\n",
    "    d3[\"WOE\"] = np.log(d3.DIST_EVENT/d3.DIST_NON_EVENT)\n",
    "    d3[\"IV\"] = (d3.DIST_EVENT-d3.DIST_NON_EVENT)*np.log(d3.DIST_EVENT/d3.DIST_NON_EVENT)\n",
    "    d3[\"VAR_NAME\"] = \"VAR\"\n",
    "    d3 = d3[['VAR_NAME','MIN_VALUE', 'MAX_VALUE', 'COUNT', 'EVENT', 'EVENT_RATE', 'NONEVENT', 'NON_EVENT_RATE', 'DIST_EVENT','DIST_NON_EVENT','WOE', 'IV']]      \n",
    "    d3 = d3.replace([np.inf, -np.inf], 0)\n",
    "    d3.IV = d3.IV.sum()\n",
    "    d3 = d3.reset_index(drop=True)\n",
    "    \n",
    "    return(d3)\n",
    "\n",
    "def data_vars(df1, target):\n",
    "    \"\"\"\n",
    "    Function that identifies features that are too highly correlated with the dependent variable and\n",
    "    returns a list of features to keep.\n",
    "    \n",
    "    df1 (Dataframe): The independent variable(s).\n",
    "    target (Series): the dependent variable\n",
    "    \"\"\"\n",
    "    stack = traceback.extract_stack()\n",
    "    filename, lineno, function_name, code = stack[-2]\n",
    "    vars_name = re.compile(r'\\((.*?)\\).*$').search(code).groups()[0]\n",
    "    final = (re.findall(r\"[\\w']+\", vars_name))[-1]\n",
    "    \n",
    "    x = df1.dtypes.index\n",
    "    count = -1\n",
    "    \n",
    "    for i in x:\n",
    "        if i.upper() not in (final.upper()):\n",
    "            if np.issubdtype(df1[i], np.number) and len(Series.unique(df1[i])) > 2:\n",
    "                conv = mono_bin(target, df1[i])\n",
    "                conv[\"VAR_NAME\"] = i\n",
    "                count = count + 1\n",
    "            else:\n",
    "                conv = char_bin(target, df1[i])\n",
    "                conv[\"VAR_NAME\"] = i            \n",
    "                count = count + 1\n",
    "                \n",
    "            if count == 0:\n",
    "                iv_df = conv\n",
    "            else:\n",
    "                iv_df = iv_df.append(conv,ignore_index=True)\n",
    "    \n",
    "    iv = pd.DataFrame({'IV':iv_df.groupby('VAR_NAME').IV.max()})\n",
    "    iv = iv.reset_index()\n",
    "    return(iv_df,iv)"
   ]
  },
  {
   "cell_type": "code",
   "execution_count": 7,
   "metadata": {},
   "outputs": [
    {
     "data": {
      "text/plain": [
       "Index(['zone_14.0', 'zone_11.0', 'zone_5.0', 'zone_13.0', 'zone_4.0',\n",
       "       'zone_6.0', 'zone_2.0', 'zone_12.0', 'zone_8.0', 'zone_9.0', 'zone_7.0',\n",
       "       'zone_1.0', 'zone_3.0', 'plate_z', 'balls', 'pitch_number', 'pfx_z',\n",
       "       'effective_speed', 'pitch_name_4-Seam Fastball', 'vy0', 'plate_x', 'ay',\n",
       "       'release_speed', 'az', 'pitch_name_Curveball'],\n",
       "      dtype='object')"
      ]
     },
     "execution_count": 7,
     "metadata": {},
     "output_type": "execute_result"
    }
   ],
   "source": [
    "# Identifying features that are too correlated to the dependant variable using the IV method and picking \n",
    "# features that have an IV more than 0.001\n",
    "\n",
    "final_iv, IV = data_vars(X, y)\n",
    "var_name  = IV.sort_values('IV', ascending=False)\n",
    "X = X[list(var_name.VAR_NAME[var_name['IV'] > 0.001])]\n",
    "X.columns"
   ]
  },
  {
   "cell_type": "code",
   "execution_count": 8,
   "metadata": {},
   "outputs": [
    {
     "name": "stdout",
     "output_type": "stream",
     "text": [
      "dropping 'vy0' at index: 19\n",
      "dropping 'zone_14.0' at index: 0\n",
      "dropping 'release_speed' at index: 20\n",
      "dropping 'effective_speed' at index: 16\n",
      "dropping 'ay' at index: 18\n",
      "dropping 'plate_z' at index: 12\n",
      "dropping 'pitch_number' at index: 13\n",
      "dropping 'az' at index: 16\n",
      "Remaining variables:\n",
      "Index(['zone_11.0', 'zone_5.0', 'zone_13.0', 'zone_4.0', 'zone_6.0',\n",
      "       'zone_2.0', 'zone_12.0', 'zone_8.0', 'zone_9.0', 'zone_7.0', 'zone_1.0',\n",
      "       'zone_3.0', 'balls', 'pfx_z', 'pitch_name_4-Seam Fastball', 'plate_x',\n",
      "       'pitch_name_Curveball'],\n",
      "      dtype='object')\n"
     ]
    }
   ],
   "source": [
    "# eliminating features that are collinear with each other\n",
    "X = calculate_vif_(X, thresh=5.0)"
   ]
  },
  {
   "cell_type": "code",
   "execution_count": 11,
   "metadata": {},
   "outputs": [],
   "source": [
    "X_train, X_test, y_train, y_test = train_test_split(X, y, test_size=0.3, random_state=42)"
   ]
  },
  {
   "cell_type": "code",
   "execution_count": 12,
   "metadata": {},
   "outputs": [
    {
     "name": "stdout",
     "output_type": "stream",
     "text": [
      "Optimization terminated successfully.\n",
      "         Current function value: 0.525759\n",
      "         Iterations 6\n"
     ]
    },
    {
     "data": {
      "text/html": [
       "<table class=\"simpletable\">\n",
       "<caption>Logit Regression Results</caption>\n",
       "<tr>\n",
       "  <th>Dep. Variable:</th>     <td>strike_result</td>  <th>  No. Observations:  </th>  <td> 27293</td> \n",
       "</tr>\n",
       "<tr>\n",
       "  <th>Model:</th>                 <td>Logit</td>      <th>  Df Residuals:      </th>  <td> 27276</td> \n",
       "</tr>\n",
       "<tr>\n",
       "  <th>Method:</th>                 <td>MLE</td>       <th>  Df Model:          </th>  <td>    16</td> \n",
       "</tr>\n",
       "<tr>\n",
       "  <th>Date:</th>            <td>Sun, 12 Jan 2020</td> <th>  Pseudo R-squ.:     </th>  <td>0.2281</td> \n",
       "</tr>\n",
       "<tr>\n",
       "  <th>Time:</th>                <td>08:47:57</td>     <th>  Log-Likelihood:    </th> <td> -14350.</td>\n",
       "</tr>\n",
       "<tr>\n",
       "  <th>converged:</th>             <td>True</td>       <th>  LL-Null:           </th> <td> -18589.</td>\n",
       "</tr>\n",
       "<tr>\n",
       "  <th>Covariance Type:</th>     <td>nonrobust</td>    <th>  LLR p-value:       </th>  <td> 0.000</td> \n",
       "</tr>\n",
       "</table>\n",
       "<table class=\"simpletable\">\n",
       "<tr>\n",
       "               <td></td>                 <th>coef</th>     <th>std err</th>      <th>z</th>      <th>P>|z|</th>  <th>[0.025</th>    <th>0.975]</th>  \n",
       "</tr>\n",
       "<tr>\n",
       "  <th>zone_11.0</th>                  <td>   -1.2374</td> <td>    0.059</td> <td>  -20.896</td> <td> 0.000</td> <td>   -1.353</td> <td>   -1.121</td>\n",
       "</tr>\n",
       "<tr>\n",
       "  <th>zone_5.0</th>                   <td>    1.9964</td> <td>    0.071</td> <td>   28.302</td> <td> 0.000</td> <td>    1.858</td> <td>    2.135</td>\n",
       "</tr>\n",
       "<tr>\n",
       "  <th>zone_13.0</th>                  <td>   -0.9262</td> <td>    0.049</td> <td>  -18.776</td> <td> 0.000</td> <td>   -1.023</td> <td>   -0.830</td>\n",
       "</tr>\n",
       "<tr>\n",
       "  <th>zone_4.0</th>                   <td>    1.8239</td> <td>    0.083</td> <td>   22.082</td> <td> 0.000</td> <td>    1.662</td> <td>    1.986</td>\n",
       "</tr>\n",
       "<tr>\n",
       "  <th>zone_6.0</th>                   <td>    2.2291</td> <td>    0.077</td> <td>   28.908</td> <td> 0.000</td> <td>    2.078</td> <td>    2.380</td>\n",
       "</tr>\n",
       "<tr>\n",
       "  <th>zone_2.0</th>                   <td>    2.1773</td> <td>    0.093</td> <td>   23.491</td> <td> 0.000</td> <td>    1.996</td> <td>    2.359</td>\n",
       "</tr>\n",
       "<tr>\n",
       "  <th>zone_12.0</th>                  <td>   -0.1735</td> <td>    0.053</td> <td>   -3.293</td> <td> 0.001</td> <td>   -0.277</td> <td>   -0.070</td>\n",
       "</tr>\n",
       "<tr>\n",
       "  <th>zone_8.0</th>                   <td>    1.7825</td> <td>    0.070</td> <td>   25.323</td> <td> 0.000</td> <td>    1.644</td> <td>    1.920</td>\n",
       "</tr>\n",
       "<tr>\n",
       "  <th>zone_9.0</th>                   <td>    1.9280</td> <td>    0.071</td> <td>   27.230</td> <td> 0.000</td> <td>    1.789</td> <td>    2.067</td>\n",
       "</tr>\n",
       "<tr>\n",
       "  <th>zone_7.0</th>                   <td>    1.5495</td> <td>    0.081</td> <td>   19.076</td> <td> 0.000</td> <td>    1.390</td> <td>    1.709</td>\n",
       "</tr>\n",
       "<tr>\n",
       "  <th>zone_1.0</th>                   <td>    1.6122</td> <td>    0.090</td> <td>   17.839</td> <td> 0.000</td> <td>    1.435</td> <td>    1.789</td>\n",
       "</tr>\n",
       "<tr>\n",
       "  <th>zone_3.0</th>                   <td>    2.0740</td> <td>    0.093</td> <td>   22.334</td> <td> 0.000</td> <td>    1.892</td> <td>    2.256</td>\n",
       "</tr>\n",
       "<tr>\n",
       "  <th>balls</th>                      <td>    0.0766</td> <td>    0.015</td> <td>    5.194</td> <td> 0.000</td> <td>    0.048</td> <td>    0.106</td>\n",
       "</tr>\n",
       "<tr>\n",
       "  <th>pfx_z</th>                      <td>   -0.1769</td> <td>    0.032</td> <td>   -5.477</td> <td> 0.000</td> <td>   -0.240</td> <td>   -0.114</td>\n",
       "</tr>\n",
       "<tr>\n",
       "  <th>pitch_name_4-Seam Fastball</th> <td>   -0.0559</td> <td>    0.043</td> <td>   -1.307</td> <td> 0.191</td> <td>   -0.140</td> <td>    0.028</td>\n",
       "</tr>\n",
       "<tr>\n",
       "  <th>plate_x</th>                    <td>   -0.4434</td> <td>    0.024</td> <td>  -18.171</td> <td> 0.000</td> <td>   -0.491</td> <td>   -0.396</td>\n",
       "</tr>\n",
       "<tr>\n",
       "  <th>pitch_name_Curveball</th>       <td>   -0.4742</td> <td>    0.064</td> <td>   -7.368</td> <td> 0.000</td> <td>   -0.600</td> <td>   -0.348</td>\n",
       "</tr>\n",
       "</table>"
      ],
      "text/plain": [
       "<class 'statsmodels.iolib.summary.Summary'>\n",
       "\"\"\"\n",
       "                           Logit Regression Results                           \n",
       "==============================================================================\n",
       "Dep. Variable:          strike_result   No. Observations:                27293\n",
       "Model:                          Logit   Df Residuals:                    27276\n",
       "Method:                           MLE   Df Model:                           16\n",
       "Date:                Sun, 12 Jan 2020   Pseudo R-squ.:                  0.2281\n",
       "Time:                        08:47:57   Log-Likelihood:                -14350.\n",
       "converged:                       True   LL-Null:                       -18589.\n",
       "Covariance Type:            nonrobust   LLR p-value:                     0.000\n",
       "==============================================================================================\n",
       "                                 coef    std err          z      P>|z|      [0.025      0.975]\n",
       "----------------------------------------------------------------------------------------------\n",
       "zone_11.0                     -1.2374      0.059    -20.896      0.000      -1.353      -1.121\n",
       "zone_5.0                       1.9964      0.071     28.302      0.000       1.858       2.135\n",
       "zone_13.0                     -0.9262      0.049    -18.776      0.000      -1.023      -0.830\n",
       "zone_4.0                       1.8239      0.083     22.082      0.000       1.662       1.986\n",
       "zone_6.0                       2.2291      0.077     28.908      0.000       2.078       2.380\n",
       "zone_2.0                       2.1773      0.093     23.491      0.000       1.996       2.359\n",
       "zone_12.0                     -0.1735      0.053     -3.293      0.001      -0.277      -0.070\n",
       "zone_8.0                       1.7825      0.070     25.323      0.000       1.644       1.920\n",
       "zone_9.0                       1.9280      0.071     27.230      0.000       1.789       2.067\n",
       "zone_7.0                       1.5495      0.081     19.076      0.000       1.390       1.709\n",
       "zone_1.0                       1.6122      0.090     17.839      0.000       1.435       1.789\n",
       "zone_3.0                       2.0740      0.093     22.334      0.000       1.892       2.256\n",
       "balls                          0.0766      0.015      5.194      0.000       0.048       0.106\n",
       "pfx_z                         -0.1769      0.032     -5.477      0.000      -0.240      -0.114\n",
       "pitch_name_4-Seam Fastball    -0.0559      0.043     -1.307      0.191      -0.140       0.028\n",
       "plate_x                       -0.4434      0.024    -18.171      0.000      -0.491      -0.396\n",
       "pitch_name_Curveball          -0.4742      0.064     -7.368      0.000      -0.600      -0.348\n",
       "==============================================================================================\n",
       "\"\"\""
      ]
     },
     "execution_count": 12,
     "metadata": {},
     "output_type": "execute_result"
    }
   ],
   "source": [
    "m = sm.Logit(y_train, X_train).fit()\n",
    "m.summary()"
   ]
  },
  {
   "cell_type": "code",
   "execution_count": 13,
   "metadata": {},
   "outputs": [
    {
     "name": "stdout",
     "output_type": "stream",
     "text": [
      "Optimization terminated successfully.\n",
      "         Current function value: 0.526218\n",
      "         Iterations 6\n"
     ]
    }
   ],
   "source": [
    "# Removing columns that aren't statistically significant\n",
    "drop_cols = X.columns[m.pvalues >= 0.05]\n",
    "X = X.drop(drop_cols, axis='columns')\n",
    "X_train, X_test, y_train, y_test = train_test_split(X, y, test_size=0.33, random_state=42)\n",
    "\n",
    "# Retrain model\n",
    "m = sm.Logit(y_train, X_train).fit()"
   ]
  },
  {
   "cell_type": "code",
   "execution_count": 14,
   "metadata": {},
   "outputs": [
    {
     "name": "stdout",
     "output_type": "stream",
     "text": [
      "best threshold value = 0.7560000000000006\n",
      "corresponding training auc score =  0.7729147633892859\n"
     ]
    }
   ],
   "source": [
    "# Finding the best threshold value to decide between a strike and a hit by testing 10 values\n",
    "prob = np.arange(1,10,.02)/10\n",
    "max_val = 0\n",
    "\n",
    "for i in prob:\n",
    "    y_pred = m.predict(X_train).apply(lambda x: 1 if x>i else 0)\n",
    "    train_score = roc_auc_score(y_train, y_pred)\n",
    "    if train_score > max_val:\n",
    "        max_val = train_score\n",
    "        max_i = i\n",
    "print('best threshold value =',max_i)\n",
    "print('corresponding training auc score = ', max_val)"
   ]
  },
  {
   "cell_type": "code",
   "execution_count": 15,
   "metadata": {},
   "outputs": [
    {
     "data": {
      "image/png": "[encoded data removed]",
      "text/plain": [
       "<Figure size 432x288 with 1 Axes>"
      ]
     },
     "metadata": {
      "needs_background": "light"
     },
     "output_type": "display_data"
    },
    {
     "name": "stdout",
     "output_type": "stream",
     "text": [
      "optimal threshold value = 0.7557082790872585\n"
     ]
    }
   ],
   "source": [
    "import sklearn.metrics as metrics\n",
    "# calculate the fpr and tpr for all thresholds of the classification\n",
    "preds = m.predict(X_train)\n",
    "fpr, tpr, threshold = metrics.roc_curve(y_train, preds)\n",
    "roc_auc = metrics.auc(fpr, tpr)\n",
    "\n",
    "\n",
    "plt.title('Receiver Operating Characteristic')\n",
    "plt.plot(fpr, tpr, 'b', label = 'AUC = %0.3f' % roc_auc)\n",
    "plt.legend(loc = 'lower right')\n",
    "plt.plot([0, 1], [0, 1],'r--')\n",
    "plt.xlim([0, 1])\n",
    "plt.ylim([0, 1])\n",
    "plt.ylabel('True Positive Rate')\n",
    "plt.xlabel('False Positive Rate')\n",
    "plt.show()\n",
    "\n",
    "optimal_idx = np.argmax(tpr - fpr)\n",
    "optimal_threshold = threshold[optimal_idx]\n",
    "print('optimal threshold value =', optimal_threshold)"
   ]
  },
  {
   "cell_type": "markdown",
   "metadata": {},
   "source": [
    "# Performance"
   ]
  },
  {
   "cell_type": "code",
   "execution_count": 16,
   "metadata": {},
   "outputs": [
    {
     "name": "stdout",
     "output_type": "stream",
     "text": [
      "testing auc score =  0.7707598938491513\n"
     ]
    }
   ],
   "source": [
    "y_test_pred = m.predict(X_test).apply(lambda x: 1 if x>optimal_threshold else 0)\n",
    "print('testing auc score = ', roc_auc_score(y_test, y_test_pred))"
   ]
  },
  {
   "cell_type": "markdown",
   "metadata": {},
   "source": [
    "# Conclusion"
   ]
  },
  {
   "cell_type": "markdown",
   "metadata": {},
   "source": [
    "With the final modeling finished, we can now use the logistic regression weighting results to determine the most important features, and make informative decisions how which pitcher is overvalued, and likewise, which ones are undervalued."
   ]
  },
  {
   "cell_type": "code",
   "execution_count": 17,
   "metadata": {},
   "outputs": [
    {
     "data": {
      "text/html": [
       "<div>\n",
       "<style scoped>\n",
       "    .dataframe tbody tr th:only-of-type {\n",
       "        vertical-align: middle;\n",
       "    }\n",
       "\n",
       "    .dataframe tbody tr th {\n",
       "        vertical-align: top;\n",
       "    }\n",
       "\n",
       "    .dataframe thead th {\n",
       "        text-align: right;\n",
       "    }\n",
       "</style>\n",
       "<table border=\"1\" class=\"dataframe\">\n",
       "  <thead>\n",
       "    <tr style=\"text-align: right;\">\n",
       "      <th></th>\n",
       "      <th>feature importance</th>\n",
       "    </tr>\n",
       "  </thead>\n",
       "  <tbody>\n",
       "    <tr>\n",
       "      <th>zone_6.0</th>\n",
       "      <td>9.422992</td>\n",
       "    </tr>\n",
       "    <tr>\n",
       "      <th>zone_2.0</th>\n",
       "      <td>8.872649</td>\n",
       "    </tr>\n",
       "    <tr>\n",
       "      <th>zone_3.0</th>\n",
       "      <td>7.984899</td>\n",
       "    </tr>\n",
       "    <tr>\n",
       "      <th>zone_5.0</th>\n",
       "      <td>7.404507</td>\n",
       "    </tr>\n",
       "    <tr>\n",
       "      <th>zone_9.0</th>\n",
       "      <td>6.822729</td>\n",
       "    </tr>\n",
       "    <tr>\n",
       "      <th>zone_4.0</th>\n",
       "      <td>6.046533</td>\n",
       "    </tr>\n",
       "    <tr>\n",
       "      <th>zone_8.0</th>\n",
       "      <td>6.020497</td>\n",
       "    </tr>\n",
       "    <tr>\n",
       "      <th>zone_1.0</th>\n",
       "      <td>4.984599</td>\n",
       "    </tr>\n",
       "    <tr>\n",
       "      <th>zone_7.0</th>\n",
       "      <td>4.743863</td>\n",
       "    </tr>\n",
       "    <tr>\n",
       "      <th>balls</th>\n",
       "      <td>1.071807</td>\n",
       "    </tr>\n",
       "    <tr>\n",
       "      <th>zone_12.0</th>\n",
       "      <td>0.855797</td>\n",
       "    </tr>\n",
       "    <tr>\n",
       "      <th>pfx_z</th>\n",
       "      <td>0.813056</td>\n",
       "    </tr>\n",
       "    <tr>\n",
       "      <th>plate_x</th>\n",
       "      <td>0.641406</td>\n",
       "    </tr>\n",
       "    <tr>\n",
       "      <th>pitch_name_Curveball</th>\n",
       "      <td>0.598539</td>\n",
       "    </tr>\n",
       "    <tr>\n",
       "      <th>zone_13.0</th>\n",
       "      <td>0.404106</td>\n",
       "    </tr>\n",
       "    <tr>\n",
       "      <th>zone_11.0</th>\n",
       "      <td>0.284966</td>\n",
       "    </tr>\n",
       "  </tbody>\n",
       "</table>\n",
       "</div>"
      ],
      "text/plain": [
       "                      feature importance\n",
       "zone_6.0                        9.422992\n",
       "zone_2.0                        8.872649\n",
       "zone_3.0                        7.984899\n",
       "zone_5.0                        7.404507\n",
       "zone_9.0                        6.822729\n",
       "zone_4.0                        6.046533\n",
       "zone_8.0                        6.020497\n",
       "zone_1.0                        4.984599\n",
       "zone_7.0                        4.743863\n",
       "balls                           1.071807\n",
       "zone_12.0                       0.855797\n",
       "pfx_z                           0.813056\n",
       "plate_x                         0.641406\n",
       "pitch_name_Curveball            0.598539\n",
       "zone_13.0                       0.404106\n",
       "zone_11.0                       0.284966"
      ]
     },
     "execution_count": 17,
     "metadata": {},
     "output_type": "execute_result"
    }
   ],
   "source": [
    "np.exp(m.params.sort_values(ascending=False)).index\n",
    "# feature importance for stats logisitic regression\n",
    "pd.DataFrame(np.exp(m.params.sort_values(ascending=False)), columns=['feature importance'])\n"
   ]
  },
  {
   "cell_type": "code",
   "execution_count": 32,
   "metadata": {},
   "outputs": [
    {
     "data": {
      "image/png": "[encoded data removed]",
      "text/plain": [
       "<IPython.core.display.Image object>"
      ]
     },
     "execution_count": 32,
     "metadata": {},
     "output_type": "execute_result"
    }
   ],
   "source": [
    "Image(filename= 'Data\\zones.png')"
   ]
  },
  {
   "cell_type": "markdown",
   "metadata": {},
   "source": [
    "Notice how the most influential features end up being ones that are related to zone areas. This would indicate that certain areas have a higher probability of being a strike and that a pitcher's accuracy is also important (refer to the diagram above to identify locations of each zone). Although this is an interesting result, it is not a practical strategy to only throw to zone 6 as the batter will eventually catch on. We will only be looking at pfx_z since it is the most influential and practical feature to pick out good pitchers. Using this this knowledge of what features make a successful pitcher, we can identify undiscovered talented pitchers. In addition to finding the most talented pitchers, we have to keep in mind the cost so we will need data on their current salaries. In this case, we will only be looking at pitchers who are paid under 1 million.m"
   ]
  },
  {
   "cell_type": "code",
   "execution_count": 20,
   "metadata": {},
   "outputs": [],
   "source": [
    "starting_pitchers_names = df.player_name.loc[df['inning']==1].unique()\n",
    "df3 = (df[df.player_name.isin(starting_pitchers_names)].groupby('player_name')\n",
    "         .agg({'pfx_z':'mean',\n",
    "               'plate_x':'mean',\n",
    "               'ay':'mean',\n",
    "               'az':'mean', \n",
    "               'vy0':'mean',\n",
    "               'release_speed':'mean',\n",
    "               'strike_result':'mean', \n",
    "               'inning':'count'})\n",
    "         .sort_values(by=['pfx_z'], ascending=False)\n",
    "         .reset_index()\n",
    "          )\n",
    "\n",
    "df_salaries = pd.read_excel('Data/salary.xlsx')\n",
    "sp_salaries = df_salaries[['Name', 'Team', 'Avg Annual']][df_salaries['POS']=='SP']\n",
    "df_all = pd.merge(df3, sp_salaries, left_on='player_name', right_on='Name', how='right').dropna()\n",
    "df_all['Avg Annual'] = df_all['Avg Annual'].astype(int)\n",
    "#df_all = df_all[df_all['Avg Annual']<=1000000]"
   ]
  },
  {
   "cell_type": "code",
   "execution_count": 21,
   "metadata": {},
   "outputs": [
    {
     "data": {
      "text/plain": [
       "''"
      ]
     },
     "execution_count": 21,
     "metadata": {},
     "output_type": "execute_result"
    },
    {
     "data": {
      "image/png": "[encoded data removed]",
      "text/plain": [
       "<Figure size 720x576 with 1 Axes>"
      ]
     },
     "metadata": {
      "needs_background": "light"
     },
     "output_type": "display_data"
    }
   ],
   "source": [
    "bj_pitcher_salary = df_salaries[(df_salaries.Team=='TOR ') & (df_salaries.POS=='SP')]\n",
    "plt.figure(figsize=[10,8])\n",
    "plt.title('Salaries of Blue Jays Pitchers')\n",
    "plt.xlabel('Name')\n",
    "plt.ylabel('Dollar Amount')\n",
    "plt.bar(bj_pitcher_salary.Name, bj_pitcher_salary['Avg Annual'])\n",
    "plt.xticks(rotation=45)\n",
    "#plt.setp( ax.xaxis.get_majorticklabels(), rotation=-45, ha=\"left\", rotation_mode=\"anchor\");\n",
    ";"
   ]
  },
  {
   "cell_type": "code",
   "execution_count": 22,
   "metadata": {},
   "outputs": [
    {
     "data": {
      "text/html": [
       "<div>\n",
       "<style scoped>\n",
       "    .dataframe tbody tr th:only-of-type {\n",
       "        vertical-align: middle;\n",
       "    }\n",
       "\n",
       "    .dataframe tbody tr th {\n",
       "        vertical-align: top;\n",
       "    }\n",
       "\n",
       "    .dataframe thead th {\n",
       "        text-align: right;\n",
       "    }\n",
       "</style>\n",
       "<table border=\"1\" class=\"dataframe\">\n",
       "  <thead>\n",
       "    <tr style=\"text-align: right;\">\n",
       "      <th></th>\n",
       "      <th>pfx_z</th>\n",
       "      <th>strike_result</th>\n",
       "      <th>inning</th>\n",
       "    </tr>\n",
       "    <tr>\n",
       "      <th>player_name</th>\n",
       "      <th></th>\n",
       "      <th></th>\n",
       "      <th></th>\n",
       "    </tr>\n",
       "  </thead>\n",
       "  <tbody>\n",
       "    <tr>\n",
       "      <th>Trent Thornton</th>\n",
       "      <td>0.623450</td>\n",
       "      <td>0.517442</td>\n",
       "      <td>172</td>\n",
       "    </tr>\n",
       "    <tr>\n",
       "      <th>Aaron Sanchez</th>\n",
       "      <td>0.483208</td>\n",
       "      <td>0.508571</td>\n",
       "      <td>175</td>\n",
       "    </tr>\n",
       "    <tr>\n",
       "      <th>Marcus Stroman</th>\n",
       "      <td>0.348979</td>\n",
       "      <td>0.576471</td>\n",
       "      <td>170</td>\n",
       "    </tr>\n",
       "    <tr>\n",
       "      <th>Clayton Richard</th>\n",
       "      <td>0.245683</td>\n",
       "      <td>0.545455</td>\n",
       "      <td>77</td>\n",
       "    </tr>\n",
       "  </tbody>\n",
       "</table>\n",
       "</div>"
      ],
      "text/plain": [
       "                    pfx_z  strike_result  inning\n",
       "player_name                                     \n",
       "Trent Thornton   0.623450       0.517442     172\n",
       "Aaron Sanchez    0.483208       0.508571     175\n",
       "Marcus Stroman   0.348979       0.576471     170\n",
       "Clayton Richard  0.245683       0.545455      77"
      ]
     },
     "execution_count": 22,
     "metadata": {},
     "output_type": "execute_result"
    }
   ],
   "source": [
    "(df[df.player_name.isin(list(bj_pitcher_salary.Name))]\n",
    "     .groupby('player_name')\n",
    "     .agg({'pfx_z':'mean', 'strike_result':'mean', 'inning':'count'})\n",
    "     .sort_values(by=['pfx_z'], ascending=False))"
   ]
  },
  {
   "cell_type": "code",
   "execution_count": 25,
   "metadata": {},
   "outputs": [
    {
     "data": {
      "text/html": [
       "<div>\n",
       "<style scoped>\n",
       "    .dataframe tbody tr th:only-of-type {\n",
       "        vertical-align: middle;\n",
       "    }\n",
       "\n",
       "    .dataframe tbody tr th {\n",
       "        vertical-align: top;\n",
       "    }\n",
       "\n",
       "    .dataframe thead th {\n",
       "        text-align: right;\n",
       "    }\n",
       "</style>\n",
       "<table border=\"1\" class=\"dataframe\">\n",
       "  <thead>\n",
       "    <tr style=\"text-align: right;\">\n",
       "      <th></th>\n",
       "      <th>pfx_z</th>\n",
       "      <th>plate_x</th>\n",
       "      <th>ay</th>\n",
       "      <th>az</th>\n",
       "      <th>vy0</th>\n",
       "      <th>release_speed</th>\n",
       "      <th>strike_result</th>\n",
       "      <th>inning</th>\n",
       "      <th>Name</th>\n",
       "      <th>Team</th>\n",
       "      <th>Avg Annual</th>\n",
       "    </tr>\n",
       "    <tr>\n",
       "      <th>player_name</th>\n",
       "      <th></th>\n",
       "      <th></th>\n",
       "      <th></th>\n",
       "      <th></th>\n",
       "      <th></th>\n",
       "      <th></th>\n",
       "      <th></th>\n",
       "      <th></th>\n",
       "      <th></th>\n",
       "      <th></th>\n",
       "      <th></th>\n",
       "    </tr>\n",
       "  </thead>\n",
       "  <tbody>\n",
       "    <tr>\n",
       "      <th>Chris Paddack</th>\n",
       "      <td>1.121038</td>\n",
       "      <td>-0.034676</td>\n",
       "      <td>26.565494</td>\n",
       "      <td>-16.975289</td>\n",
       "      <td>-130.555692</td>\n",
       "      <td>89.791160</td>\n",
       "      <td>0.657459</td>\n",
       "      <td>181.0</td>\n",
       "      <td>Chris Paddack</td>\n",
       "      <td>SD</td>\n",
       "      <td>555000</td>\n",
       "    </tr>\n",
       "    <tr>\n",
       "      <th>Blake Snell</th>\n",
       "      <td>1.120256</td>\n",
       "      <td>0.070185</td>\n",
       "      <td>28.395799</td>\n",
       "      <td>-16.318547</td>\n",
       "      <td>-134.003529</td>\n",
       "      <td>92.150625</td>\n",
       "      <td>0.612500</td>\n",
       "      <td>160.0</td>\n",
       "      <td>Blake Snell</td>\n",
       "      <td>TB</td>\n",
       "      <td>10000000</td>\n",
       "    </tr>\n",
       "    <tr>\n",
       "      <th>Lucas Giolito</th>\n",
       "      <td>1.112967</td>\n",
       "      <td>0.292511</td>\n",
       "      <td>25.916894</td>\n",
       "      <td>-17.416477</td>\n",
       "      <td>-130.295408</td>\n",
       "      <td>89.553049</td>\n",
       "      <td>0.585366</td>\n",
       "      <td>164.0</td>\n",
       "      <td>Lucas Giolito</td>\n",
       "      <td>CWS</td>\n",
       "      <td>573000</td>\n",
       "    </tr>\n",
       "    <tr>\n",
       "      <th>Andrew Cashner</th>\n",
       "      <td>1.074511</td>\n",
       "      <td>-0.294734</td>\n",
       "      <td>24.915442</td>\n",
       "      <td>-19.005848</td>\n",
       "      <td>-128.350931</td>\n",
       "      <td>88.335204</td>\n",
       "      <td>0.576531</td>\n",
       "      <td>196.0</td>\n",
       "      <td>Andrew Cashner</td>\n",
       "      <td>BAL</td>\n",
       "      <td>8000000</td>\n",
       "    </tr>\n",
       "    <tr>\n",
       "      <th>J.A. Happ</th>\n",
       "      <td>1.067922</td>\n",
       "      <td>0.438034</td>\n",
       "      <td>25.685451</td>\n",
       "      <td>-18.801338</td>\n",
       "      <td>-131.776421</td>\n",
       "      <td>90.627941</td>\n",
       "      <td>0.470588</td>\n",
       "      <td>68.0</td>\n",
       "      <td>J.A. Happ</td>\n",
       "      <td>NYY</td>\n",
       "      <td>17000000</td>\n",
       "    </tr>\n",
       "  </tbody>\n",
       "</table>\n",
       "</div>"
      ],
      "text/plain": [
       "                   pfx_z   plate_x         ay         az         vy0  \\\n",
       "player_name                                                            \n",
       "Chris Paddack   1.121038 -0.034676  26.565494 -16.975289 -130.555692   \n",
       "Blake Snell     1.120256  0.070185  28.395799 -16.318547 -134.003529   \n",
       "Lucas Giolito   1.112967  0.292511  25.916894 -17.416477 -130.295408   \n",
       "Andrew Cashner  1.074511 -0.294734  24.915442 -19.005848 -128.350931   \n",
       "J.A. Happ       1.067922  0.438034  25.685451 -18.801338 -131.776421   \n",
       "\n",
       "                release_speed  strike_result  inning            Name  Team  \\\n",
       "player_name                                                                  \n",
       "Chris Paddack       89.791160       0.657459   181.0   Chris Paddack   SD    \n",
       "Blake Snell         92.150625       0.612500   160.0     Blake Snell   TB    \n",
       "Lucas Giolito       89.553049       0.585366   164.0   Lucas Giolito  CWS    \n",
       "Andrew Cashner      88.335204       0.576531   196.0  Andrew Cashner  BAL    \n",
       "J.A. Happ           90.627941       0.470588    68.0       J.A. Happ  NYY    \n",
       "\n",
       "                Avg Annual  \n",
       "player_name                 \n",
       "Chris Paddack       555000  \n",
       "Blake Snell       10000000  \n",
       "Lucas Giolito       573000  \n",
       "Andrew Cashner     8000000  \n",
       "J.A. Happ         17000000  "
      ]
     },
     "execution_count": 25,
     "metadata": {},
     "output_type": "execute_result"
    }
   ],
   "source": [
    "# Highest pfx_z\n",
    "df_all.sort_values(by=['pfx_z'], ascending= False).set_index('player_name').head(5)"
   ]
  },
  {
   "cell_type": "markdown",
   "metadata": {},
   "source": [
    "In the table above, we can see a list of pitchers who are much more cost efficient and effective as pitchers compared to some of the players on the Blue Jays roster. Chris Paddack, Lucas Giolito, Eduardo Rodrguez, and  \tTrevor Richards are all starting pitchers who fit the description and are a fraction of what Marcus Stroman is being paid. If the Blue Jays can find an opportunity to obtain these players, they will definitely be able to see an improvement with the number of strikes they can get in a game, resulting in more wins."
   ]
  }
 ],
 "metadata": {
  "kernelspec": {
   "display_name": "Python 3",
   "language": "python",
   "name": "python3"
  },
  "language_info": {
   "codemirror_mode": {
    "name": "ipython",
    "version": 3
   },
   "file_extension": ".py",
   "mimetype": "text/x-python",
   "name": "python",
   "nbconvert_exporter": "python",
   "pygments_lexer": "ipython3",
   "version": "3.7.0"
  }
 },
 "nbformat": 4,
 "nbformat_minor": 2
}
